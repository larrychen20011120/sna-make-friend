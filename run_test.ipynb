{
 "cells": [
  {
   "cell_type": "markdown",
   "metadata": {},
   "source": [
    "### 安裝相關套件"
   ]
  },
  {
   "cell_type": "code",
   "execution_count": 1,
   "metadata": {},
   "outputs": [
    {
     "name": "stdout",
     "output_type": "stream",
     "text": [
      "Requirement already satisfied: annotated-types==0.7.0 in c:\\users\\larry\\onedrive - 國立成功大學 national cheng kung university\\大四\\大四下\\資料探勘\\sna-make-friend\\.venv\\lib\\site-packages (from -r requirements.txt (line 1)) (0.7.0)\n",
      "Requirement already satisfied: asttokens==2.4.1 in c:\\users\\larry\\onedrive - 國立成功大學 national cheng kung university\\大四\\大四下\\資料探勘\\sna-make-friend\\.venv\\lib\\site-packages (from -r requirements.txt (line 2)) (2.4.1)\n",
      "Requirement already satisfied: certifi==2024.6.2 in c:\\users\\larry\\onedrive - 國立成功大學 national cheng kung university\\大四\\大四下\\資料探勘\\sna-make-friend\\.venv\\lib\\site-packages (from -r requirements.txt (line 3)) (2024.6.2)\n",
      "Requirement already satisfied: charset-normalizer==3.3.2 in c:\\users\\larry\\onedrive - 國立成功大學 national cheng kung university\\大四\\大四下\\資料探勘\\sna-make-friend\\.venv\\lib\\site-packages (from -r requirements.txt (line 4)) (3.3.2)\n",
      "Requirement already satisfied: colorama==0.4.6 in c:\\users\\larry\\onedrive - 國立成功大學 national cheng kung university\\大四\\大四下\\資料探勘\\sna-make-friend\\.venv\\lib\\site-packages (from -r requirements.txt (line 5)) (0.4.6)\n",
      "Requirement already satisfied: comm==0.2.2 in c:\\users\\larry\\onedrive - 國立成功大學 national cheng kung university\\大四\\大四下\\資料探勘\\sna-make-friend\\.venv\\lib\\site-packages (from -r requirements.txt (line 6)) (0.2.2)\n",
      "Requirement already satisfied: contourpy==1.2.1 in c:\\users\\larry\\onedrive - 國立成功大學 national cheng kung university\\大四\\大四下\\資料探勘\\sna-make-friend\\.venv\\lib\\site-packages (from -r requirements.txt (line 7)) (1.2.1)\n",
      "Requirement already satisfied: cycler==0.12.1 in c:\\users\\larry\\onedrive - 國立成功大學 national cheng kung university\\大四\\大四下\\資料探勘\\sna-make-friend\\.venv\\lib\\site-packages (from -r requirements.txt (line 8)) (0.12.1)\n",
      "Requirement already satisfied: debugpy==1.8.1 in c:\\users\\larry\\onedrive - 國立成功大學 national cheng kung university\\大四\\大四下\\資料探勘\\sna-make-friend\\.venv\\lib\\site-packages (from -r requirements.txt (line 9)) (1.8.1)\n",
      "Requirement already satisfied: decorator==5.1.1 in c:\\users\\larry\\onedrive - 國立成功大學 national cheng kung university\\大四\\大四下\\資料探勘\\sna-make-friend\\.venv\\lib\\site-packages (from -r requirements.txt (line 10)) (5.1.1)\n",
      "Requirement already satisfied: dgl==2.2.1 in c:\\users\\larry\\onedrive - 國立成功大學 national cheng kung university\\大四\\大四下\\資料探勘\\sna-make-friend\\.venv\\lib\\site-packages (from -r requirements.txt (line 11)) (2.2.1)\n",
      "Requirement already satisfied: executing==2.0.1 in c:\\users\\larry\\onedrive - 國立成功大學 national cheng kung university\\大四\\大四下\\資料探勘\\sna-make-friend\\.venv\\lib\\site-packages (from -r requirements.txt (line 12)) (2.0.1)\n",
      "Requirement already satisfied: filelock==3.14.0 in c:\\users\\larry\\onedrive - 國立成功大學 national cheng kung university\\大四\\大四下\\資料探勘\\sna-make-friend\\.venv\\lib\\site-packages (from -r requirements.txt (line 13)) (3.14.0)\n",
      "Requirement already satisfied: fonttools==4.53.0 in c:\\users\\larry\\onedrive - 國立成功大學 national cheng kung university\\大四\\大四下\\資料探勘\\sna-make-friend\\.venv\\lib\\site-packages (from -r requirements.txt (line 14)) (4.53.0)\n",
      "Requirement already satisfied: fsspec==2024.5.0 in c:\\users\\larry\\onedrive - 國立成功大學 national cheng kung university\\大四\\大四下\\資料探勘\\sna-make-friend\\.venv\\lib\\site-packages (from -r requirements.txt (line 15)) (2024.5.0)\n",
      "Requirement already satisfied: idna==3.7 in c:\\users\\larry\\onedrive - 國立成功大學 national cheng kung university\\大四\\大四下\\資料探勘\\sna-make-friend\\.venv\\lib\\site-packages (from -r requirements.txt (line 16)) (3.7)\n",
      "Requirement already satisfied: intel-openmp==2021.4.0 in c:\\users\\larry\\onedrive - 國立成功大學 national cheng kung university\\大四\\大四下\\資料探勘\\sna-make-friend\\.venv\\lib\\site-packages (from -r requirements.txt (line 17)) (2021.4.0)\n",
      "Requirement already satisfied: ipykernel==6.29.4 in c:\\users\\larry\\onedrive - 國立成功大學 national cheng kung university\\大四\\大四下\\資料探勘\\sna-make-friend\\.venv\\lib\\site-packages (from -r requirements.txt (line 18)) (6.29.4)\n",
      "Requirement already satisfied: ipython==8.25.0 in c:\\users\\larry\\onedrive - 國立成功大學 national cheng kung university\\大四\\大四下\\資料探勘\\sna-make-friend\\.venv\\lib\\site-packages (from -r requirements.txt (line 19)) (8.25.0)\n",
      "Requirement already satisfied: jedi==0.19.1 in c:\\users\\larry\\onedrive - 國立成功大學 national cheng kung university\\大四\\大四下\\資料探勘\\sna-make-friend\\.venv\\lib\\site-packages (from -r requirements.txt (line 20)) (0.19.1)\n",
      "Requirement already satisfied: Jinja2==3.1.4 in c:\\users\\larry\\onedrive - 國立成功大學 national cheng kung university\\大四\\大四下\\資料探勘\\sna-make-friend\\.venv\\lib\\site-packages (from -r requirements.txt (line 21)) (3.1.4)\n",
      "Requirement already satisfied: joblib==1.4.2 in c:\\users\\larry\\onedrive - 國立成功大學 national cheng kung university\\大四\\大四下\\資料探勘\\sna-make-friend\\.venv\\lib\\site-packages (from -r requirements.txt (line 22)) (1.4.2)\n",
      "Requirement already satisfied: jupyter_client==8.6.2 in c:\\users\\larry\\onedrive - 國立成功大學 national cheng kung university\\大四\\大四下\\資料探勘\\sna-make-friend\\.venv\\lib\\site-packages (from -r requirements.txt (line 23)) (8.6.2)\n",
      "Requirement already satisfied: jupyter_core==5.7.2 in c:\\users\\larry\\onedrive - 國立成功大學 national cheng kung university\\大四\\大四下\\資料探勘\\sna-make-friend\\.venv\\lib\\site-packages (from -r requirements.txt (line 24)) (5.7.2)\n",
      "Requirement already satisfied: kiwisolver==1.4.5 in c:\\users\\larry\\onedrive - 國立成功大學 national cheng kung university\\大四\\大四下\\資料探勘\\sna-make-friend\\.venv\\lib\\site-packages (from -r requirements.txt (line 25)) (1.4.5)\n",
      "Requirement already satisfied: MarkupSafe==2.1.5 in c:\\users\\larry\\onedrive - 國立成功大學 national cheng kung university\\大四\\大四下\\資料探勘\\sna-make-friend\\.venv\\lib\\site-packages (from -r requirements.txt (line 26)) (2.1.5)\n",
      "Requirement already satisfied: matplotlib==3.9.0 in c:\\users\\larry\\onedrive - 國立成功大學 national cheng kung university\\大四\\大四下\\資料探勘\\sna-make-friend\\.venv\\lib\\site-packages (from -r requirements.txt (line 27)) (3.9.0)\n",
      "Requirement already satisfied: matplotlib-inline==0.1.7 in c:\\users\\larry\\onedrive - 國立成功大學 national cheng kung university\\大四\\大四下\\資料探勘\\sna-make-friend\\.venv\\lib\\site-packages (from -r requirements.txt (line 28)) (0.1.7)\n",
      "Requirement already satisfied: mkl==2021.4.0 in c:\\users\\larry\\onedrive - 國立成功大學 national cheng kung university\\大四\\大四下\\資料探勘\\sna-make-friend\\.venv\\lib\\site-packages (from -r requirements.txt (line 29)) (2021.4.0)\n",
      "Requirement already satisfied: mpmath==1.3.0 in c:\\users\\larry\\onedrive - 國立成功大學 national cheng kung university\\大四\\大四下\\資料探勘\\sna-make-friend\\.venv\\lib\\site-packages (from -r requirements.txt (line 30)) (1.3.0)\n",
      "Requirement already satisfied: nest-asyncio==1.6.0 in c:\\users\\larry\\onedrive - 國立成功大學 national cheng kung university\\大四\\大四下\\資料探勘\\sna-make-friend\\.venv\\lib\\site-packages (from -r requirements.txt (line 31)) (1.6.0)\n",
      "Requirement already satisfied: networkx==3.3 in c:\\users\\larry\\onedrive - 國立成功大學 national cheng kung university\\大四\\大四下\\資料探勘\\sna-make-friend\\.venv\\lib\\site-packages (from -r requirements.txt (line 32)) (3.3)\n",
      "Requirement already satisfied: numpy==1.26.4 in c:\\users\\larry\\onedrive - 國立成功大學 national cheng kung university\\大四\\大四下\\資料探勘\\sna-make-friend\\.venv\\lib\\site-packages (from -r requirements.txt (line 33)) (1.26.4)\n",
      "Requirement already satisfied: packaging==24.1 in c:\\users\\larry\\onedrive - 國立成功大學 national cheng kung university\\大四\\大四下\\資料探勘\\sna-make-friend\\.venv\\lib\\site-packages (from -r requirements.txt (line 34)) (24.1)\n",
      "Requirement already satisfied: pandas==2.2.2 in c:\\users\\larry\\onedrive - 國立成功大學 national cheng kung university\\大四\\大四下\\資料探勘\\sna-make-friend\\.venv\\lib\\site-packages (from -r requirements.txt (line 35)) (2.2.2)\n",
      "Requirement already satisfied: parso==0.8.4 in c:\\users\\larry\\onedrive - 國立成功大學 national cheng kung university\\大四\\大四下\\資料探勘\\sna-make-friend\\.venv\\lib\\site-packages (from -r requirements.txt (line 36)) (0.8.4)\n",
      "Requirement already satisfied: pillow==10.3.0 in c:\\users\\larry\\onedrive - 國立成功大學 national cheng kung university\\大四\\大四下\\資料探勘\\sna-make-friend\\.venv\\lib\\site-packages (from -r requirements.txt (line 37)) (10.3.0)\n",
      "Requirement already satisfied: platformdirs==4.2.2 in c:\\users\\larry\\onedrive - 國立成功大學 national cheng kung university\\大四\\大四下\\資料探勘\\sna-make-friend\\.venv\\lib\\site-packages (from -r requirements.txt (line 38)) (4.2.2)\n",
      "Requirement already satisfied: prompt_toolkit==3.0.47 in c:\\users\\larry\\onedrive - 國立成功大學 national cheng kung university\\大四\\大四下\\資料探勘\\sna-make-friend\\.venv\\lib\\site-packages (from -r requirements.txt (line 39)) (3.0.47)\n",
      "Requirement already satisfied: psutil==5.9.8 in c:\\users\\larry\\onedrive - 國立成功大學 national cheng kung university\\大四\\大四下\\資料探勘\\sna-make-friend\\.venv\\lib\\site-packages (from -r requirements.txt (line 40)) (5.9.8)\n",
      "Requirement already satisfied: pure-eval==0.2.2 in c:\\users\\larry\\onedrive - 國立成功大學 national cheng kung university\\大四\\大四下\\資料探勘\\sna-make-friend\\.venv\\lib\\site-packages (from -r requirements.txt (line 41)) (0.2.2)\n",
      "Requirement already satisfied: pydantic==2.7.2 in c:\\users\\larry\\onedrive - 國立成功大學 national cheng kung university\\大四\\大四下\\資料探勘\\sna-make-friend\\.venv\\lib\\site-packages (from -r requirements.txt (line 42)) (2.7.2)\n",
      "Requirement already satisfied: pydantic_core==2.18.3 in c:\\users\\larry\\onedrive - 國立成功大學 national cheng kung university\\大四\\大四下\\資料探勘\\sna-make-friend\\.venv\\lib\\site-packages (from -r requirements.txt (line 43)) (2.18.3)\n",
      "Requirement already satisfied: Pygments==2.18.0 in c:\\users\\larry\\onedrive - 國立成功大學 national cheng kung university\\大四\\大四下\\資料探勘\\sna-make-friend\\.venv\\lib\\site-packages (from -r requirements.txt (line 44)) (2.18.0)\n",
      "Requirement already satisfied: pyparsing==3.1.2 in c:\\users\\larry\\onedrive - 國立成功大學 national cheng kung university\\大四\\大四下\\資料探勘\\sna-make-friend\\.venv\\lib\\site-packages (from -r requirements.txt (line 45)) (3.1.2)\n",
      "Requirement already satisfied: python-dateutil==2.9.0.post0 in c:\\users\\larry\\onedrive - 國立成功大學 national cheng kung university\\大四\\大四下\\資料探勘\\sna-make-friend\\.venv\\lib\\site-packages (from -r requirements.txt (line 46)) (2.9.0.post0)\n",
      "Requirement already satisfied: pytz==2024.1 in c:\\users\\larry\\onedrive - 國立成功大學 national cheng kung university\\大四\\大四下\\資料探勘\\sna-make-friend\\.venv\\lib\\site-packages (from -r requirements.txt (line 47)) (2024.1)\n",
      "Requirement already satisfied: pywin32==306 in c:\\users\\larry\\onedrive - 國立成功大學 national cheng kung university\\大四\\大四下\\資料探勘\\sna-make-friend\\.venv\\lib\\site-packages (from -r requirements.txt (line 48)) (306)\n",
      "Requirement already satisfied: PyYAML==6.0.1 in c:\\users\\larry\\onedrive - 國立成功大學 national cheng kung university\\大四\\大四下\\資料探勘\\sna-make-friend\\.venv\\lib\\site-packages (from -r requirements.txt (line 49)) (6.0.1)\n",
      "Requirement already satisfied: pyzmq==26.0.3 in c:\\users\\larry\\onedrive - 國立成功大學 national cheng kung university\\大四\\大四下\\資料探勘\\sna-make-friend\\.venv\\lib\\site-packages (from -r requirements.txt (line 50)) (26.0.3)\n",
      "Requirement already satisfied: requests==2.32.3 in c:\\users\\larry\\onedrive - 國立成功大學 national cheng kung university\\大四\\大四下\\資料探勘\\sna-make-friend\\.venv\\lib\\site-packages (from -r requirements.txt (line 51)) (2.32.3)\n",
      "Requirement already satisfied: scikit-learn==1.5.0 in c:\\users\\larry\\onedrive - 國立成功大學 national cheng kung university\\大四\\大四下\\資料探勘\\sna-make-friend\\.venv\\lib\\site-packages (from -r requirements.txt (line 52)) (1.5.0)\n",
      "Requirement already satisfied: scipy==1.13.1 in c:\\users\\larry\\onedrive - 國立成功大學 national cheng kung university\\大四\\大四下\\資料探勘\\sna-make-friend\\.venv\\lib\\site-packages (from -r requirements.txt (line 53)) (1.13.1)\n",
      "Requirement already satisfied: six==1.16.0 in c:\\users\\larry\\onedrive - 國立成功大學 national cheng kung university\\大四\\大四下\\資料探勘\\sna-make-friend\\.venv\\lib\\site-packages (from -r requirements.txt (line 54)) (1.16.0)\n",
      "Requirement already satisfied: stack-data==0.6.3 in c:\\users\\larry\\onedrive - 國立成功大學 national cheng kung university\\大四\\大四下\\資料探勘\\sna-make-friend\\.venv\\lib\\site-packages (from -r requirements.txt (line 55)) (0.6.3)\n",
      "Requirement already satisfied: sympy==1.12.1 in c:\\users\\larry\\onedrive - 國立成功大學 national cheng kung university\\大四\\大四下\\資料探勘\\sna-make-friend\\.venv\\lib\\site-packages (from -r requirements.txt (line 56)) (1.12.1)\n",
      "Requirement already satisfied: tbb==2021.12.0 in c:\\users\\larry\\onedrive - 國立成功大學 national cheng kung university\\大四\\大四下\\資料探勘\\sna-make-friend\\.venv\\lib\\site-packages (from -r requirements.txt (line 57)) (2021.12.0)\n",
      "Requirement already satisfied: threadpoolctl==3.5.0 in c:\\users\\larry\\onedrive - 國立成功大學 national cheng kung university\\大四\\大四下\\資料探勘\\sna-make-friend\\.venv\\lib\\site-packages (from -r requirements.txt (line 58)) (3.5.0)\n",
      "Requirement already satisfied: torch==2.3.0 in c:\\users\\larry\\onedrive - 國立成功大學 national cheng kung university\\大四\\大四下\\資料探勘\\sna-make-friend\\.venv\\lib\\site-packages (from -r requirements.txt (line 59)) (2.3.0)\n",
      "Requirement already satisfied: torchdata==0.7.1 in c:\\users\\larry\\onedrive - 國立成功大學 national cheng kung university\\大四\\大四下\\資料探勘\\sna-make-friend\\.venv\\lib\\site-packages (from -r requirements.txt (line 60)) (0.7.1)\n",
      "Requirement already satisfied: tornado==6.4.1 in c:\\users\\larry\\onedrive - 國立成功大學 national cheng kung university\\大四\\大四下\\資料探勘\\sna-make-friend\\.venv\\lib\\site-packages (from -r requirements.txt (line 61)) (6.4.1)\n",
      "Requirement already satisfied: tqdm==4.66.4 in c:\\users\\larry\\onedrive - 國立成功大學 national cheng kung university\\大四\\大四下\\資料探勘\\sna-make-friend\\.venv\\lib\\site-packages (from -r requirements.txt (line 62)) (4.66.4)\n",
      "Requirement already satisfied: traitlets==5.14.3 in c:\\users\\larry\\onedrive - 國立成功大學 national cheng kung university\\大四\\大四下\\資料探勘\\sna-make-friend\\.venv\\lib\\site-packages (from -r requirements.txt (line 63)) (5.14.3)\n",
      "Requirement already satisfied: typing_extensions==4.12.1 in c:\\users\\larry\\onedrive - 國立成功大學 national cheng kung university\\大四\\大四下\\資料探勘\\sna-make-friend\\.venv\\lib\\site-packages (from -r requirements.txt (line 64)) (4.12.1)\n",
      "Requirement already satisfied: tzdata==2024.1 in c:\\users\\larry\\onedrive - 國立成功大學 national cheng kung university\\大四\\大四下\\資料探勘\\sna-make-friend\\.venv\\lib\\site-packages (from -r requirements.txt (line 65)) (2024.1)\n",
      "Requirement already satisfied: urllib3==2.2.1 in c:\\users\\larry\\onedrive - 國立成功大學 national cheng kung university\\大四\\大四下\\資料探勘\\sna-make-friend\\.venv\\lib\\site-packages (from -r requirements.txt (line 66)) (2.2.1)\n",
      "Requirement already satisfied: wcwidth==0.2.13 in c:\\users\\larry\\onedrive - 國立成功大學 national cheng kung university\\大四\\大四下\\資料探勘\\sna-make-friend\\.venv\\lib\\site-packages (from -r requirements.txt (line 67)) (0.2.13)\n"
     ]
    }
   ],
   "source": [
    "!pip install -r requirements.txt"
   ]
  },
  {
   "cell_type": "markdown",
   "metadata": {},
   "source": [
    "### import 套件"
   ]
  },
  {
   "cell_type": "code",
   "execution_count": 2,
   "metadata": {},
   "outputs": [
    {
     "name": "stderr",
     "output_type": "stream",
     "text": [
      "c:\\Users\\larry\\OneDrive - 國立成功大學 National Cheng Kung University\\大四\\大四下\\資料探勘\\SNA-make-friend\\.venv\\Lib\\site-packages\\tqdm\\auto.py:21: TqdmWarning: IProgress not found. Please update jupyter and ipywidgets. See https://ipywidgets.readthedocs.io/en/stable/user_install.html\n",
      "  from .autonotebook import tqdm as notebook_tqdm\n"
     ]
    }
   ],
   "source": [
    "import configparser\n",
    "import os\n",
    "import torch\n",
    "from dataset import LinkPredictionDataset, sample_friend_pairs\n",
    "from model import Pipeline\n",
    "from utils import compute_rank_error\n",
    "from tqdm import tqdm\n",
    "from main import RandomWalkWithRestart, SimulatedAnnealing, RuleBase"
   ]
  },
  {
   "cell_type": "markdown",
   "metadata": {},
   "source": [
    "### Load the setting file\n",
    "read the setting file"
   ]
  },
  {
   "cell_type": "code",
   "execution_count": 3,
   "metadata": {},
   "outputs": [
    {
     "data": {
      "text/plain": [
       "['setting.ini']"
      ]
     },
     "execution_count": 3,
     "metadata": {},
     "output_type": "execute_result"
    }
   ],
   "source": [
    "# read from setting file\n",
    "configs = configparser.ConfigParser()\n",
    "configs.read('setting.ini')"
   ]
  },
  {
   "cell_type": "markdown",
   "metadata": {},
   "source": [
    "讀取訓練參數、資料集參數、演算法參數"
   ]
  },
  {
   "cell_type": "code",
   "execution_count": 4,
   "metadata": {},
   "outputs": [],
   "source": [
    "# load the training setting parameters\n",
    "model_name = configs[\"LP Parameter\"][\"model-name\"]\n",
    "hidden_size = int(configs['LP Parameter']['hidden-size'])\n",
    "lr = float(configs['LP Parameter']['learning-rate'])\n",
    "epochs = int(configs[\"LP Parameter\"]['epoch'])\n",
    "\n",
    "# load the dataset settings\n",
    "filepath = os.path.join(configs[\"Task Setting\"][\"entry\"], \"combined-adj-sparsefeat.pkl\")\n",
    "test_ratio = float(configs[\"Task Setting\"][\"test-ratio\"])\n",
    "seed = int(configs[\"Reproduce\"][\"seed\"])\n",
    "count = int(configs[\"Task Setting\"][\"friend-sample-count\"])\n",
    "max_alter_count = int(configs[\"Task Setting\"][\"max-alter-count\"])\n",
    "\n",
    "# load algorithm parameter\n",
    "restart_ratio = float(configs['Random Walk']['restart-ratio'])\n",
    "epsilon = float(configs[\"Random Walk\"][\"epsilon\"])\n",
    "walk_graph = configs[\"Random Walk\"][\"walk-graph\"]"
   ]
  },
  {
   "cell_type": "markdown",
   "metadata": {},
   "source": [
    "### 訓練推薦系統"
   ]
  },
  {
   "cell_type": "code",
   "execution_count": 5,
   "metadata": {},
   "outputs": [
    {
     "name": "stderr",
     "output_type": "stream",
     "text": [
      "100%|██████████| 100/100 [00:16<00:00,  6.02it/s]"
     ]
    },
    {
     "name": "stdout",
     "output_type": "stream",
     "text": [
      "\n",
      "AUC: 0.967920\n"
     ]
    },
    {
     "name": "stderr",
     "output_type": "stream",
     "text": [
      "\n"
     ]
    }
   ],
   "source": [
    "# create dataset\n",
    "link_prediction_ds = LinkPredictionDataset(filepath, seed)\n",
    "# build up pipeline\n",
    "torch.manual_seed( seed )\n",
    "pipeline = Pipeline(model_name, hidden_size, link_prediction_ds.get_feature_size())\n",
    "# split the dataset before training\n",
    "ds = link_prediction_ds.split(test_ratio)\n",
    "train_losses = pipeline.train(ds, lr=lr, epochs=epochs)"
   ]
  },
  {
   "cell_type": "markdown",
   "metadata": {},
   "source": [
    "### 繪製訓練過程"
   ]
  },
  {
   "cell_type": "code",
   "execution_count": 6,
   "metadata": {},
   "outputs": [
    {
     "data": {
      "image/png": "[encoded data removed]",
      "text/plain": [
       "<Figure size 640x480 with 1 Axes>"
      ]
     },
     "metadata": {},
     "output_type": "display_data"
    }
   ],
   "source": [
    "import matplotlib.pyplot as plt\n",
    "\n",
    "plt.title(\"Training Loss\")\n",
    "plt.plot(range(1, epochs+1), train_losses)\n",
    "plt.xlabel('epoch')\n",
    "plt.ylabel('loss value')\n",
    "plt.show()"
   ]
  },
  {
   "cell_type": "markdown",
   "metadata": {},
   "source": [
    "隨機採樣friend pairs作為評價調整演算法的基準"
   ]
  },
  {
   "cell_type": "code",
   "execution_count": 7,
   "metadata": {},
   "outputs": [],
   "source": [
    "future_friend_pairs = sample_friend_pairs(ds, count=count, seed=seed)"
   ]
  },
  {
   "cell_type": "markdown",
   "metadata": {},
   "source": [
    "定義調整演算法\n",
    "* RuleBase\n",
    "* Random Walk with Restart\n",
    "* Simulated Annealing"
   ]
  },
  {
   "cell_type": "code",
   "execution_count": 8,
   "metadata": {},
   "outputs": [],
   "source": [
    "start_temp = int(configs[\"Simulated Annealing\"][\"start-temp\"])\n",
    "end_temp = int(configs[\"Simulated Annealing\"][\"end-temp\"])\n",
    "max_iter = int(configs[\"Simulated Annealing\"][\"max-iter\"])\n",
    "cooling_rate = float(configs[\"Simulated Annealing\"][\"cooling-rate\"])\n",
    "\n",
    "# method = RandomWalkWithRestart(restart_ratio, max_alter_count, walk_graph, epsilon)\n",
    "method = SimulatedAnnealing(\n",
    "    start_temp=start_temp, end_temp=end_temp, max_iter=max_iter,\n",
    "    cooling_rate=cooling_rate, answer_size=max_alter_count,\n",
    "    seed=seed\n",
    ")"
   ]
  },
  {
   "cell_type": "markdown",
   "metadata": {},
   "source": [
    "### 測試程式"
   ]
  },
  {
   "cell_type": "code",
   "execution_count": 9,
   "metadata": {},
   "outputs": [
    {
     "name": "stderr",
     "output_type": "stream",
     "text": [
      "Total Progress:   0%|          | 0/10 [00:00<?, ?it/s]\n"
     ]
    },
    {
     "ename": "AttributeError",
     "evalue": "'DGLGraph' object has no attribute 'shape'",
     "output_type": "error",
     "traceback": [
      "\u001b[1;31m---------------------------------------------------------------------------\u001b[0m",
      "\u001b[1;31mAttributeError\u001b[0m                            Traceback (most recent call last)",
      "Cell \u001b[1;32mIn[9], line 6\u001b[0m\n\u001b[0;32m      4\u001b[0m \u001b[38;5;28;01mfor\u001b[39;00m pair \u001b[38;5;129;01min\u001b[39;00m future_friend_pairs:\n\u001b[0;32m      5\u001b[0m     src, tgt \u001b[38;5;241m=\u001b[39m pair\n\u001b[1;32m----> 6\u001b[0m     g \u001b[38;5;241m=\u001b[39m \u001b[43mmethod\u001b[49m\u001b[38;5;241;43m.\u001b[39;49m\u001b[43mfit\u001b[49m\u001b[43m(\u001b[49m\u001b[43mds\u001b[49m\u001b[43m[\u001b[49m\u001b[38;5;124;43m\"\u001b[39;49m\u001b[38;5;124;43mtrain_g\u001b[39;49m\u001b[38;5;124;43m\"\u001b[39;49m\u001b[43m]\u001b[49m\u001b[43m,\u001b[49m\u001b[43m \u001b[49m\u001b[43mpair\u001b[49m\u001b[43m)\u001b[49m\n\u001b[0;32m      8\u001b[0m     \u001b[38;5;66;03m# change new graph to dataset\u001b[39;00m\n\u001b[0;32m      9\u001b[0m     link_prediction_ds\u001b[38;5;241m.\u001b[39mset_new_graph(g)\n",
      "File \u001b[1;32mc:\\Users\\larry\\OneDrive - 國立成功大學 National Cheng Kung University\\大四\\大四下\\資料探勘\\SNA-make-friend\\main.py:129\u001b[0m, in \u001b[0;36mSimulatedAnnealing.fit\u001b[1;34m(self, input_graph, pair, restart_ratio)\u001b[0m\n\u001b[0;32m    127\u001b[0m curr_answer \u001b[38;5;241m=\u001b[39m \u001b[38;5;28mself\u001b[39m\u001b[38;5;241m.\u001b[39m__init_answer(node_size, feature_size)\n\u001b[0;32m    128\u001b[0m alter_graph \u001b[38;5;241m=\u001b[39m \u001b[38;5;28mself\u001b[39m\u001b[38;5;241m.\u001b[39m__alter_graph(input_graph, curr_answer, user_id)\n\u001b[1;32m--> 129\u001b[0m proximity \u001b[38;5;241m=\u001b[39m \u001b[43mrandom_walk_with_restart\u001b[49m\u001b[43m(\u001b[49m\u001b[43malter_graph\u001b[49m\u001b[43m,\u001b[49m\u001b[43m \u001b[49m\u001b[43mtgt\u001b[49m\u001b[43m,\u001b[49m\u001b[43m \u001b[49m\u001b[43mrestart_ratio\u001b[49m\u001b[38;5;241;43m=\u001b[39;49m\u001b[43mrestart_ratio\u001b[49m\u001b[43m)\u001b[49m\n\u001b[0;32m    130\u001b[0m proximity \u001b[38;5;241m=\u001b[39m proximity\u001b[38;5;241m.\u001b[39mreshape(\u001b[38;5;241m-\u001b[39m\u001b[38;5;241m1\u001b[39m)\n\u001b[0;32m    131\u001b[0m curr_fitness \u001b[38;5;241m=\u001b[39m proximity[user_id]\n",
      "File \u001b[1;32mc:\\Users\\larry\\OneDrive - 國立成功大學 National Cheng Kung University\\大四\\大四下\\資料探勘\\SNA-make-friend\\main.py:9\u001b[0m, in \u001b[0;36mrandom_walk_with_restart\u001b[1;34m(graph, start_point, restart_ratio)\u001b[0m\n\u001b[0;32m      8\u001b[0m \u001b[38;5;28;01mdef\u001b[39;00m \u001b[38;5;21mrandom_walk_with_restart\u001b[39m(graph, start_point, restart_ratio):\n\u001b[1;32m----> 9\u001b[0m     init_vector \u001b[38;5;241m=\u001b[39m np\u001b[38;5;241m.\u001b[39mzeros((\u001b[43mgraph\u001b[49m\u001b[38;5;241;43m.\u001b[39;49m\u001b[43mshape\u001b[49m[\u001b[38;5;241m0\u001b[39m], \u001b[38;5;241m1\u001b[39m))\n\u001b[0;32m     10\u001b[0m     init_vector[start_point, \u001b[38;5;241m0\u001b[39m] \u001b[38;5;241m=\u001b[39m \u001b[38;5;241m1\u001b[39m\n\u001b[0;32m     11\u001b[0m     \u001b[38;5;66;03m# closed-form of RWR\u001b[39;00m\n",
      "\u001b[1;31mAttributeError\u001b[0m: 'DGLGraph' object has no attribute 'shape'"
     ]
    }
   ],
   "source": [
    "origin_ranks, new_ranks = [], []\n",
    "\n",
    "with tqdm(total=count, desc=\"Total Progress\", position=0) as outer_progress:\n",
    "    for pair in future_friend_pairs:\n",
    "        src, tgt = pair\n",
    "        g = method.fit(ds[\"train_g\"], pair)\n",
    "        \n",
    "        # change new graph to dataset\n",
    "        link_prediction_ds.set_new_graph(g)\n",
    "        # split the dataset before training\n",
    "        ds = link_prediction_ds.split(test_ratio, pairs=future_friend_pairs)\n",
    "\n",
    "        # build up pipeline\n",
    "        torch.manual_seed( seed )\n",
    "        new_pipeline = Pipeline(model_name, hidden_size, link_prediction_ds.get_feature_size())\n",
    "        new_pipeline.train(ds, lr, epochs, outer_progress)\n",
    "\n",
    "        # get new rank\n",
    "        origin_ranks.append( pipeline.predict_rank(ds[\"train_g\"], src, tgt) )\n",
    "        new_ranks.append( new_pipeline.predict_rank(ds[\"train_g\"], src, tgt) )\n",
    "    \n",
    "# output the score\n",
    "print( compute_rank_error(origin_ranks, new_ranks) )"
   ]
  }
 ],
 "metadata": {
  "kernelspec": {
   "display_name": ".venv",
   "language": "python",
   "name": "python3"
  },
  "language_info": {
   "codemirror_mode": {
    "name": "ipython",
    "version": 3
   },
   "file_extension": ".py",
   "mimetype": "text/x-python",
   "name": "python",
   "nbconvert_exporter": "python",
   "pygments_lexer": "ipython3",
   "version": "3.11.9"
  }
 },
 "nbformat": 4,
 "nbformat_minor": 2
}
