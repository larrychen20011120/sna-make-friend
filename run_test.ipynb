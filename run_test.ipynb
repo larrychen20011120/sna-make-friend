{
 "cells": [
  {
   "cell_type": "markdown",
   "metadata": {},
   "source": [
    "### 安裝相關套件"
   ]
  },
  {
   "cell_type": "code",
   "execution_count": null,
   "metadata": {},
   "outputs": [],
   "source": [
    "!pip install -r requirements.txt"
   ]
  },
  {
   "cell_type": "markdown",
   "metadata": {},
   "source": [
    "### import 套件"
   ]
  },
  {
   "cell_type": "code",
   "execution_count": 2,
   "metadata": {},
   "outputs": [],
   "source": [
    "import configparser\n",
    "import os\n",
    "import torch\n",
    "from dataset import LinkPredictionDataset, sample_friend_pairs\n",
    "from model import Pipeline\n",
    "from utils import compute_rank_error\n",
    "from tqdm import tqdm\n",
    "from main import RandomWalkWithRestart"
   ]
  },
  {
   "cell_type": "markdown",
   "metadata": {},
   "source": [
    "### Load the setting file\n",
    "read the setting file"
   ]
  },
  {
   "cell_type": "code",
   "execution_count": 3,
   "metadata": {},
   "outputs": [
    {
     "data": {
      "text/plain": [
       "['setting.ini']"
      ]
     },
     "execution_count": 3,
     "metadata": {},
     "output_type": "execute_result"
    }
   ],
   "source": [
    "# read from setting file\n",
    "configs = configparser.ConfigParser()\n",
    "configs.read('setting.ini')"
   ]
  },
  {
   "cell_type": "markdown",
   "metadata": {},
   "source": [
    "讀取訓練參數、資料集參數、演算法參數"
   ]
  },
  {
   "cell_type": "code",
   "execution_count": 4,
   "metadata": {},
   "outputs": [],
   "source": [
    "# load the training setting parameters\n",
    "model_name = configs[\"LP Parameter\"][\"model-name\"]\n",
    "hidden_size = int(configs['LP Parameter']['hidden-size'])\n",
    "lr = float(configs['LP Parameter']['learning-rate'])\n",
    "epochs = int(configs[\"LP Parameter\"]['epoch'])\n",
    "\n",
    "# load the dataset settings\n",
    "filepath = os.path.join(configs[\"Task Setting\"][\"entry\"], \"combined-adj-sparsefeat.pkl\")\n",
    "test_ratio = float(configs[\"Task Setting\"][\"test-ratio\"])\n",
    "seed = int(configs[\"Reproduce\"][\"seed\"])\n",
    "count = int(configs[\"Task Setting\"][\"friend-sample-count\"])\n",
    "max_alter_count = int(configs[\"Task Setting\"][\"max-alter-count\"])\n",
    "\n",
    "# load algorithm parameter\n",
    "restart_ratio = float(configs['Random Walk']['restart-ratio'])\n",
    "epsilon = float(configs[\"Random Walk\"][\"epsilon\"])\n",
    "walk_graph = configs[\"Random Walk\"][\"walk-graph\"]"
   ]
  },
  {
   "cell_type": "markdown",
   "metadata": {},
   "source": [
    "### 訓練推薦系統"
   ]
  },
  {
   "cell_type": "code",
   "execution_count": 6,
   "metadata": {},
   "outputs": [
    {
     "name": "stderr",
     "output_type": "stream",
     "text": [
      "100%|██████████| 100/100 [00:02<00:00, 47.88it/s]"
     ]
    },
    {
     "name": "stdout",
     "output_type": "stream",
     "text": [
      "\n",
      "AUC: 0.967920\n"
     ]
    },
    {
     "name": "stderr",
     "output_type": "stream",
     "text": [
      "\n"
     ]
    }
   ],
   "source": [
    "# create dataset\n",
    "link_prediction_ds = LinkPredictionDataset(filepath, seed)\n",
    "# build up pipeline\n",
    "torch.manual_seed( seed )\n",
    "pipeline = Pipeline(model_name, hidden_size, link_prediction_ds.get_feature_size())\n",
    "# split the dataset before training\n",
    "ds = link_prediction_ds.split(test_ratio)\n",
    "train_losses = pipeline.train(ds, lr=lr, epochs=epochs)"
   ]
  },
  {
   "cell_type": "markdown",
   "metadata": {},
   "source": [
    "### 繪製訓練過程"
   ]
  },
  {
   "cell_type": "code",
   "execution_count": 10,
   "metadata": {},
   "outputs": [
    {
     "data": {
      "image/png": "[encoded data removed]",
      "text/plain": [
       "<Figure size 640x480 with 1 Axes>"
      ]
     },
     "metadata": {},
     "output_type": "display_data"
    }
   ],
   "source": [
    "import matplotlib.pyplot as plt\n",
    "\n",
    "plt.title(\"Training Loss\")\n",
    "plt.plot(range(1, epochs+1), train_losses)\n",
    "plt.xlabel('epoch')\n",
    "plt.ylabel('loss value')\n",
    "plt.show()"
   ]
  },
  {
   "cell_type": "markdown",
   "metadata": {},
   "source": [
    "隨機採樣friend pairs作為評價調整演算法的基準"
   ]
  },
  {
   "cell_type": "code",
   "execution_count": 13,
   "metadata": {},
   "outputs": [],
   "source": [
    "future_friend_pairs = sample_friend_pairs(ds, count=count, seed=seed)"
   ]
  },
  {
   "cell_type": "markdown",
   "metadata": {},
   "source": [
    "定義調整演算法\n",
    "* RuleBase\n",
    "* Random Walk with Restart\n",
    "* Simulated Annealing"
   ]
  },
  {
   "cell_type": "code",
   "execution_count": 11,
   "metadata": {},
   "outputs": [],
   "source": [
    "method = RandomWalkWithRestart(restart_ratio, max_alter_count, walk_graph, epsilon)"
   ]
  },
  {
   "cell_type": "markdown",
   "metadata": {},
   "source": [
    "### 測試程式"
   ]
  },
  {
   "cell_type": "code",
   "execution_count": 14,
   "metadata": {},
   "outputs": [
    {
     "name": "stderr",
     "output_type": "stream",
     "text": [
      "Total Progress:  10%|█         | 1/10 [00:04<00:38,  4.24s/it]"
     ]
    },
    {
     "name": "stdout",
     "output_type": "stream",
     "text": [
      "\n",
      "AUC: 0.961958\n"
     ]
    },
    {
     "name": "stderr",
     "output_type": "stream",
     "text": [
      "Total Progress:  20%|██        | 2/10 [00:08<00:35,  4.46s/it]"
     ]
    },
    {
     "name": "stdout",
     "output_type": "stream",
     "text": [
      "\n",
      "AUC: 0.957674\n"
     ]
    },
    {
     "name": "stderr",
     "output_type": "stream",
     "text": [
      "Total Progress:  30%|███       | 3/10 [00:14<00:33,  4.79s/it]"
     ]
    },
    {
     "name": "stdout",
     "output_type": "stream",
     "text": [
      "\n",
      "AUC: 0.951984\n"
     ]
    },
    {
     "name": "stderr",
     "output_type": "stream",
     "text": [
      "Total Progress:  40%|████      | 4/10 [00:18<00:27,  4.58s/it]"
     ]
    },
    {
     "name": "stdout",
     "output_type": "stream",
     "text": [
      "\n",
      "AUC: 0.947314\n"
     ]
    },
    {
     "name": "stderr",
     "output_type": "stream",
     "text": [
      "Total Progress:  50%|█████     | 5/10 [00:22<00:22,  4.40s/it]"
     ]
    },
    {
     "name": "stdout",
     "output_type": "stream",
     "text": [
      "\n",
      "AUC: 0.939850\n"
     ]
    },
    {
     "name": "stderr",
     "output_type": "stream",
     "text": [
      "Total Progress:  60%|██████    | 6/10 [00:26<00:17,  4.29s/it]"
     ]
    },
    {
     "name": "stdout",
     "output_type": "stream",
     "text": [
      "\n",
      "AUC: 0.927306\n"
     ]
    },
    {
     "name": "stderr",
     "output_type": "stream",
     "text": [
      "Total Progress:  70%|███████   | 7/10 [00:30<00:12,  4.20s/it]"
     ]
    },
    {
     "name": "stdout",
     "output_type": "stream",
     "text": [
      "\n",
      "AUC: 0.928491\n"
     ]
    },
    {
     "name": "stderr",
     "output_type": "stream",
     "text": [
      "Total Progress:  80%|████████  | 8/10 [00:34<00:08,  4.10s/it]"
     ]
    },
    {
     "name": "stdout",
     "output_type": "stream",
     "text": [
      "\n",
      "AUC: 0.917184\n"
     ]
    },
    {
     "name": "stderr",
     "output_type": "stream",
     "text": [
      "Total Progress:  90%|█████████ | 9/10 [00:38<00:04,  4.02s/it]"
     ]
    },
    {
     "name": "stdout",
     "output_type": "stream",
     "text": [
      "\n",
      "AUC: 0.915893\n"
     ]
    },
    {
     "name": "stderr",
     "output_type": "stream",
     "text": [
      "Total Progress: 100%|██████████| 10/10 [00:42<00:00,  4.22s/it]"
     ]
    },
    {
     "name": "stdout",
     "output_type": "stream",
     "text": [
      "\n",
      "AUC: 0.917524\n",
      "{'average': 50.7, 'max': 2285, 'min': -1077}\n"
     ]
    },
    {
     "name": "stderr",
     "output_type": "stream",
     "text": [
      "\n"
     ]
    }
   ],
   "source": [
    "origin_ranks, new_ranks = [], []\n",
    "\n",
    "with tqdm(total=count, desc=\"Total Progress\", position=0) as outer_progress:\n",
    "    for pair in future_friend_pairs:\n",
    "        src, tgt = pair\n",
    "        g = method.fit(ds[\"train_g\"], pair)\n",
    "        \n",
    "        # change new graph to dataset\n",
    "        link_prediction_ds.set_new_graph(g)\n",
    "        # split the dataset before training\n",
    "        ds = link_prediction_ds.split(test_ratio, pairs=future_friend_pairs)\n",
    "\n",
    "        # build up pipeline\n",
    "        torch.manual_seed( seed )\n",
    "        new_pipeline = Pipeline(model_name, hidden_size, link_prediction_ds.get_feature_size())\n",
    "        new_pipeline.train(ds, lr, epochs, outer_progress)\n",
    "\n",
    "        # get new rank\n",
    "        origin_ranks.append( pipeline.predict_rank(ds[\"train_g\"], src, tgt) )\n",
    "        new_ranks.append( new_pipeline.predict_rank(ds[\"train_g\"], src, tgt) )\n",
    "    \n",
    "# output the score\n",
    "print( compute_rank_error(origin_ranks, new_ranks) )"
   ]
  }
 ],
 "metadata": {
  "kernelspec": {
   "display_name": ".venv",
   "language": "python",
   "name": "python3"
  },
  "language_info": {
   "codemirror_mode": {
    "name": "ipython",
    "version": 3
   },
   "file_extension": ".py",
   "mimetype": "text/x-python",
   "name": "python",
   "nbconvert_exporter": "python",
   "pygments_lexer": "ipython3",
   "version": "3.11.9"
  }
 },
 "nbformat": 4,
 "nbformat_minor": 2
}
