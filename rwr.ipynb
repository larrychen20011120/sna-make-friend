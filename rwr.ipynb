{
 "cells": [
  {
   "cell_type": "code",
   "execution_count": 74,
   "metadata": {},
   "outputs": [],
   "source": [
    "import os\n",
    "import pickle\n",
    "import torch\n",
    "import numpy as np\n",
    "import scipy.sparse as sp\n",
    "import dgl\n",
    "\n",
    "from utils import select_source, compute_rank_error, compute_hit_ratio\n",
    "\n",
    "import warnings\n",
    "warnings.filterwarnings(\"ignore\", category=DeprecationWarning)"
   ]
  },
  {
   "cell_type": "markdown",
   "metadata": {},
   "source": [
    "### 訓練推薦系統"
   ]
  },
  {
   "cell_type": "code",
   "execution_count": 75,
   "metadata": {},
   "outputs": [],
   "source": [
    "SEED = 42\n",
    "EPOCHS = 100\n",
    "TEST_RATIO = 0.3  # ratio for splitting the test set\n",
    "DEVICE = \"cpu\""
   ]
  },
  {
   "cell_type": "code",
   "execution_count": 76,
   "metadata": {},
   "outputs": [
    {
     "name": "stdout",
     "output_type": "stream",
     "text": [
      "Friendship matrix shape : (4039, 4039)\n",
      "Feature matrix shape    : (4039, 1283)\n"
     ]
    },
    {
     "data": {
      "text/plain": [
       "Graph(num_nodes=4039, num_edges=176468,\n",
       "      ndata_schemes={'feat': Scheme(shape=(1283,), dtype=torch.float32)}\n",
       "      edata_schemes={})"
      ]
     },
     "execution_count": 76,
     "metadata": {},
     "output_type": "execute_result"
    }
   ],
   "source": [
    "with open(os.path.join(\"facebook\", \"combined-adj-sparsefeat.pkl\"), \"rb\") as f:\n",
    "    friendship_matrix, feature_matrix = pickle.load(f, encoding='latin1')\n",
    "\n",
    "print(f\"Friendship matrix shape : {friendship_matrix.shape}\")\n",
    "print(f\"Feature matrix shape    : {feature_matrix.shape}\")\n",
    "\n",
    "src, dst = np.nonzero(friendship_matrix)\n",
    "g = dgl.graph((src, dst))\n",
    "g.ndata['feat'] = torch.tensor(feature_matrix.todense(), dtype=torch.float32)\n",
    "g"
   ]
  },
  {
   "cell_type": "code",
   "execution_count": 77,
   "metadata": {},
   "outputs": [],
   "source": [
    "def split_dataset(g):\n",
    "\n",
    "    u, v = g.edges()\n",
    "\n",
    "    eids = np.arange(g.number_of_edges())\n",
    "    np.random.seed( SEED )\n",
    "    eids = np.random.permutation(eids)\n",
    "    test_size = int(len(eids) * TEST_RATIO)  # number of edges in test set\n",
    "\n",
    "    # get positive edges for test and train\n",
    "    test_pos_u, test_pos_v = u[eids[:test_size]], v[eids[:test_size]]\n",
    "    train_pos_u, train_pos_v = u[eids[test_size:]], v[eids[test_size:]]\n",
    "\n",
    "    # Find all negative edges\n",
    "    adj = sp.coo_matrix((np.ones(len(u)), (u.numpy(), v.numpy())))\n",
    "    adj_neg = 1 - adj.todense() - np.eye(g.number_of_nodes())\n",
    "    neg_u, neg_v = np.where(adj_neg != 0)\n",
    "\n",
    "    # split the negative edges for training and testing\n",
    "    np.random.seed( SEED )\n",
    "    neg_eids = np.random.choice(len(neg_u), g.number_of_edges())\n",
    "    test_neg_u, test_neg_v = neg_u[neg_eids[:test_size]], neg_v[neg_eids[:test_size]]\n",
    "    train_neg_u, train_neg_v = neg_u[neg_eids[test_size:]], neg_v[neg_eids[test_size:]]\n",
    "\n",
    "    # construct positive and negative graphs for training and testing\n",
    "    train_pos_g = dgl.graph((train_pos_u, train_pos_v), num_nodes=g.number_of_nodes())\n",
    "    train_neg_g = dgl.graph((train_neg_u, train_neg_v), num_nodes=g.number_of_nodes())\n",
    "\n",
    "    test_pos_g = dgl.graph((test_pos_u, test_pos_v), num_nodes=g.number_of_nodes())\n",
    "    test_neg_g = dgl.graph((test_neg_u, test_neg_v), num_nodes=g.number_of_nodes())\n",
    "\n",
    "    # training graph\n",
    "    train_g = dgl.remove_edges(g, eids[:test_size])\n",
    "    train_g = dgl.add_self_loop(train_g)\n",
    "\n",
    "    return {\n",
    "        \"train_pos_g\": train_pos_g,\n",
    "        \"train_neg_g\": train_neg_g,\n",
    "        \"test_pos_g\":  test_pos_g,\n",
    "        \"test_neg_g\":  test_neg_g,\n",
    "        \"train_g\":     train_g\n",
    "    }"
   ]
  },
  {
   "cell_type": "code",
   "execution_count": 78,
   "metadata": {},
   "outputs": [
    {
     "name": "stderr",
     "output_type": "stream",
     "text": [
      "100%|██████████| 100/100 [00:04<00:00, 21.11it/s]"
     ]
    },
    {
     "name": "stdout",
     "output_type": "stream",
     "text": [
      "\n",
      "AUC: 0.968032\n"
     ]
    },
    {
     "name": "stderr",
     "output_type": "stream",
     "text": [
      "\n"
     ]
    }
   ],
   "source": [
    "from model import Pipeline\n",
    "\n",
    "pipeline = Pipeline(\"GCN\", 16, feature_matrix.shape[1])\n",
    "ds = split_dataset(g)\n",
    "train_losses = pipeline.train(ds)"
   ]
  },
  {
   "cell_type": "code",
   "execution_count": 79,
   "metadata": {},
   "outputs": [
    {
     "data": {
      "image/png": "[encoded data removed]",
      "text/plain": [
       "<Figure size 640x480 with 1 Axes>"
      ]
     },
     "metadata": {},
     "output_type": "display_data"
    }
   ],
   "source": [
    "import matplotlib.pyplot as plt\n",
    "\n",
    "plt.title(\"Training Loss\")\n",
    "plt.plot(range(1, EPOCHS+1), train_losses)\n",
    "plt.xlabel('epoch')\n",
    "plt.ylabel('loss value')\n",
    "plt.show()"
   ]
  },
  {
   "cell_type": "code",
   "execution_count": 80,
   "metadata": {},
   "outputs": [
    {
     "name": "stdout",
     "output_type": "stream",
     "text": [
      "[(3089, 9.62559700012207), (338, 8.091079711914062), (365, 4.881927013397217), (480, 4.796428203582764), (357, 4.67478084564209), (371, 4.534914016723633), (457, 4.387075424194336), (397, 4.284292221069336), (476, 4.279455184936523), (346, 4.187865257263184)]\n"
     ]
    }
   ],
   "source": [
    "recommend_list = pipeline.recommend(g, 0)\n",
    "print(recommend_list[:10])"
   ]
  },
  {
   "cell_type": "markdown",
   "metadata": {},
   "source": [
    "### 方法二"
   ]
  },
  {
   "cell_type": "code",
   "execution_count": 81,
   "metadata": {},
   "outputs": [],
   "source": [
    "MAX_CHANGES = 20\n",
    "NUM_PAIRS = 20\n",
    "\n",
    "RESTART_RATIO = 0.1\n",
    "EPSILON = 1e-5\n",
    "WALK_GRAPH = \"weighted\""
   ]
  },
  {
   "cell_type": "markdown",
   "metadata": {},
   "source": [
    "取樣一些成對的驗證資料"
   ]
  },
  {
   "cell_type": "code",
   "execution_count": 82,
   "metadata": {},
   "outputs": [
    {
     "data": {
      "text/plain": [
       "[(2331, 2619), (404, 456), (128, 102), (3111, 3037), (1640, 1126)]"
      ]
     },
     "execution_count": 82,
     "metadata": {},
     "output_type": "execute_result"
    }
   ],
   "source": [
    "import random\n",
    "\n",
    "pairs = []\n",
    "start = 100\n",
    "end = 200\n",
    "\n",
    "random.seed(SEED)\n",
    "targets = random.sample(range(0, friendship_matrix.shape[0]-1), NUM_PAIRS)\n",
    "\n",
    "for tgt in targets:\n",
    "    recommend_list = pipeline.recommend(g, tgt)\n",
    "    src = select_source(recommend_list, start, end)\n",
    "    pairs.append((src, tgt))\n",
    "\n",
    "pairs[:5]"
   ]
  },
  {
   "cell_type": "code",
   "execution_count": 83,
   "metadata": {},
   "outputs": [],
   "source": [
    "def random_walk_with_restart(graph, start_point, restart_ratio, max_iter=100, tol=1e-6, device=torch.device(\"cpu\")):\n",
    "    # graph is already torch tensor\n",
    "    init_vector = torch.zeros((graph.shape[0], 1), device=device)\n",
    "    init_vector[start_point, 0] = 1\n",
    "    p = init_vector.clone()\n",
    "    \n",
    "    for _ in range(max_iter):\n",
    "        prev_p = p.clone()\n",
    "        p = (1 - restart_ratio) * torch.mm(graph, p) + restart_ratio * init_vector\n",
    "        if torch.norm(p - prev_p, p=1).item() < tol:\n",
    "            break\n",
    "    return p\n",
    "\n",
    "def construct_normalized_graph(friends, features, epsilon=1e-4, walk_graph=\"weighted\", device=torch.device(\"cpu\")):\n",
    "    if walk_graph == \"adj\":\n",
    "        # normalize friends\n",
    "        friends += epsilon * torch.eye(friends.shape[0], device=device)\n",
    "        normalized_friends = friends / friends.sum(dim=1, keepdim=True)\n",
    "\n",
    "    elif walk_graph == \"weighted\":\n",
    "        # Compute feature inner product matrix\n",
    "        feature_inner_product = torch.mm(features, features.t())\n",
    "        \n",
    "        # Replace the original adjacency matrix values with feature inner product values\n",
    "        neighbors = (friends == 1)\n",
    "        friends = friends.clone()  # Make a copy to avoid modifying the original tensor\n",
    "        friends[neighbors] = feature_inner_product[neighbors]\n",
    "        \n",
    "        # Normalize the friends matrix\n",
    "        friends += epsilon * torch.eye(friends.shape[0], device=device)\n",
    "        normalized_friends = friends / friends.sum(dim=1, keepdim=True)\n",
    "\n",
    "    else:\n",
    "        raise ValueError(\"Error in reading parameter walk graph!!\")\n",
    "\n",
    "    return normalized_friends\n",
    "\n",
    "\n",
    "def method_2(g, pair):\n",
    "    user_id, tgt = pair\n",
    "    g_copy = dgl.remove_self_loop(g.clone())\n",
    "    device = torch.device(DEVICE)\n",
    "    \n",
    "    # get friends and feature metrix\n",
    "    friends = g_copy.adj().to_dense()\n",
    "    features = g_copy.ndata['feat'].to(device)\n",
    "    # turn to float\n",
    "    friends = friends.type(torch.FloatTensor).to(device)\n",
    "\n",
    "    normalized_friends = construct_normalized_graph(friends, features, EPSILON, WALK_GRAPH, device)\n",
    "    proximity = random_walk_with_restart(normalized_friends, tgt, RESTART_RATIO, device=device)\n",
    "\n",
    "    proximity = proximity.reshape(-1).detach().cpu().numpy()\n",
    "\n",
    "    top_friends = np.flip(np.argsort(proximity))[1:MAX_CHANGES+1]\n",
    "\n",
    "    friends = friends.detach().cpu().numpy()\n",
    "    features = features.detach().cpu().numpy()\n",
    "    friends[top_friends, user_id] = 1\n",
    "    friends[user_id, top_friends] = 1\n",
    "\n",
    "    src, dst = np.nonzero(friends)\n",
    "    g_change = dgl.graph((src, dst))\n",
    "    g_change.ndata['feat'] = torch.tensor(features, dtype=torch.float32)\n",
    "\n",
    "    return g_change"
   ]
  },
  {
   "cell_type": "code",
   "execution_count": 84,
   "metadata": {},
   "outputs": [
    {
     "name": "stderr",
     "output_type": "stream",
     "text": [
      "  0%|          | 0/20 [00:00<?, ?it/s]"
     ]
    },
    {
     "name": "stderr",
     "output_type": "stream",
     "text": [
      "100%|██████████| 20/20 [02:23<00:00,  7.18s/it]"
     ]
    },
    {
     "name": "stdout",
     "output_type": "stream",
     "text": [
      "{'average': -1.0, 'max': 1, 'min': -10}\n"
     ]
    },
    {
     "name": "stderr",
     "output_type": "stream",
     "text": [
      "\n"
     ]
    }
   ],
   "source": [
    "from tqdm.auto import tqdm\n",
    "\n",
    "origin_ranks, new_ranks = [], []\n",
    "\n",
    "for pair in tqdm(pairs):\n",
    "    g_change = method_2(g, pair)\n",
    "\n",
    "    origin_rank = pipeline.predict_rank(g, pair[0], pair[1])\n",
    "\n",
    "    ds = split_dataset(g_change)\n",
    "    new_pipeline = Pipeline(\"GCN\", 16, feature_matrix.shape[1])\n",
    "    train_losses = new_pipeline.train(ds)\n",
    "\n",
    "    #new_rank = pipeline.predict_rank(g_change, pair[0], pair[1])\n",
    "    new_rank = new_pipeline.predict_rank(g_change, pair[0], pair[1])\n",
    "\n",
    "    origin_ranks.append(origin_rank)\n",
    "    new_ranks.append(new_rank)\n",
    "\n",
    "print( compute_rank_error(origin_ranks, new_ranks) )    "
   ]
  },
  {
   "cell_type": "code",
   "execution_count": 85,
   "metadata": {},
   "outputs": [
    {
     "name": "stdout",
     "output_type": "stream",
     "text": [
      "[127, 129, 164, 177, 103, 171, 125, 191, 183, 189, 169, 153, 128, 157, 175, 135, 100, 197, 120, 189]\n",
      "[127, 129, 174, 179, 103, 172, 125, 195, 183, 188, 169, 153, 127, 157, 175, 134, 100, 198, 121, 193]\n"
     ]
    }
   ],
   "source": [
    "print(origin_ranks)\n",
    "print(new_ranks)"
   ]
  }
 ],
 "metadata": {
  "kernelspec": {
   "display_name": ".venv",
   "language": "python",
   "name": "python3"
  },
  "language_info": {
   "codemirror_mode": {
    "name": "ipython",
    "version": 3
   },
   "file_extension": ".py",
   "mimetype": "text/x-python",
   "name": "python",
   "nbconvert_exporter": "python",
   "pygments_lexer": "ipython3",
   "version": "3.11.9"
  }
 },
 "nbformat": 4,
 "nbformat_minor": 2
}
