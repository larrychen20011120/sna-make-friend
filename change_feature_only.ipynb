{
 "cells": [
  {
   "cell_type": "code",
   "execution_count": 25,
   "metadata": {},
   "outputs": [],
   "source": [
    "import os\n",
    "import pickle\n",
    "import torch\n",
    "import numpy as np\n",
    "import scipy.sparse as sp\n",
    "import dgl\n",
    "\n",
    "from utils import select_source, compute_rank_error, compute_hit_ratio\n",
    "\n",
    "import warnings\n",
    "warnings.filterwarnings(\"ignore\", category=DeprecationWarning)"
   ]
  },
  {
   "cell_type": "code",
   "execution_count": 26,
   "metadata": {},
   "outputs": [],
   "source": [
    "SEED = 42\n",
    "EPOCHS = 100\n",
    "TEST_RATIO = 0.3  # ratio for splitting the test set\n",
    "DEVICE = \"cpu\""
   ]
  },
  {
   "cell_type": "code",
   "execution_count": 27,
   "metadata": {},
   "outputs": [
    {
     "name": "stdout",
     "output_type": "stream",
     "text": [
      "Friendship matrix shape : (4039, 4039)\n",
      "Feature matrix shape    : (4039, 1283)\n"
     ]
    },
    {
     "data": {
      "text/plain": [
       "Graph(num_nodes=4039, num_edges=176468,\n",
       "      ndata_schemes={'feat': Scheme(shape=(1283,), dtype=torch.float32)}\n",
       "      edata_schemes={})"
      ]
     },
     "execution_count": 27,
     "metadata": {},
     "output_type": "execute_result"
    }
   ],
   "source": [
    "with open(os.path.join(\"facebook\", \"combined-adj-sparsefeat.pkl\"), \"rb\") as f:\n",
    "    friendship_matrix, feature_matrix = pickle.load(f, encoding='latin1')\n",
    "\n",
    "print(f\"Friendship matrix shape : {friendship_matrix.shape}\")\n",
    "print(f\"Feature matrix shape    : {feature_matrix.shape}\")\n",
    "\n",
    "src, dst = np.nonzero(friendship_matrix)\n",
    "g = dgl.graph((src, dst))\n",
    "g.ndata['feat'] = torch.tensor(feature_matrix.todense(), dtype=torch.float32)\n",
    "g"
   ]
  },
  {
   "cell_type": "code",
   "execution_count": 28,
   "metadata": {},
   "outputs": [],
   "source": [
    "def split_dataset(g):\n",
    "\n",
    "    u, v = g.edges()\n",
    "\n",
    "    eids = np.arange(g.number_of_edges())\n",
    "    np.random.seed( SEED )\n",
    "    eids = np.random.permutation(eids)\n",
    "    test_size = int(len(eids) * TEST_RATIO)  # number of edges in test set\n",
    "\n",
    "    # get positive edges for test and train\n",
    "    test_pos_u, test_pos_v = u[eids[:test_size]], v[eids[:test_size]]\n",
    "    train_pos_u, train_pos_v = u[eids[test_size:]], v[eids[test_size:]]\n",
    "\n",
    "    # Find all negative edges\n",
    "    adj = sp.coo_matrix((np.ones(len(u)), (u.numpy(), v.numpy())))\n",
    "    adj_neg = 1 - adj.todense() - np.eye(g.number_of_nodes())\n",
    "    neg_u, neg_v = np.where(adj_neg != 0)\n",
    "\n",
    "    # split the negative edges for training and testing\n",
    "    np.random.seed( SEED )\n",
    "    neg_eids = np.random.choice(len(neg_u), g.number_of_edges())\n",
    "    test_neg_u, test_neg_v = neg_u[neg_eids[:test_size]], neg_v[neg_eids[:test_size]]\n",
    "    train_neg_u, train_neg_v = neg_u[neg_eids[test_size:]], neg_v[neg_eids[test_size:]]\n",
    "\n",
    "    # construct positive and negative graphs for training and testing\n",
    "    train_pos_g = dgl.graph((train_pos_u, train_pos_v), num_nodes=g.number_of_nodes())\n",
    "    train_neg_g = dgl.graph((train_neg_u, train_neg_v), num_nodes=g.number_of_nodes())\n",
    "\n",
    "    test_pos_g = dgl.graph((test_pos_u, test_pos_v), num_nodes=g.number_of_nodes())\n",
    "    test_neg_g = dgl.graph((test_neg_u, test_neg_v), num_nodes=g.number_of_nodes())\n",
    "\n",
    "    # training graph\n",
    "    train_g = dgl.remove_edges(g, eids[:test_size])\n",
    "    train_g = dgl.add_self_loop(train_g)\n",
    "\n",
    "    return {\n",
    "        \"train_pos_g\": train_pos_g,\n",
    "        \"train_neg_g\": train_neg_g,\n",
    "        \"test_pos_g\":  test_pos_g,\n",
    "        \"test_neg_g\":  test_neg_g,\n",
    "        \"train_g\":     train_g\n",
    "    }"
   ]
  },
  {
   "cell_type": "code",
   "execution_count": 29,
   "metadata": {},
   "outputs": [
    {
     "name": "stderr",
     "output_type": "stream",
     "text": [
      "100%|██████████| 100/100 [00:02<00:00, 43.45it/s]"
     ]
    },
    {
     "name": "stdout",
     "output_type": "stream",
     "text": [
      "\n",
      "AUC: 0.929908\n"
     ]
    },
    {
     "name": "stderr",
     "output_type": "stream",
     "text": [
      "\n"
     ]
    }
   ],
   "source": [
    "from model import Pipeline\n",
    "\n",
    "#pipeline = Pipeline(\"GCN\", 16, feature_matrix.shape[1])\n",
    "pipeline = Pipeline(\"SAGE\", 16, feature_matrix.shape[1])\n",
    "ds = split_dataset(g)\n",
    "train_losses = pipeline.train(ds)"
   ]
  },
  {
   "cell_type": "code",
   "execution_count": 30,
   "metadata": {},
   "outputs": [
    {
     "data": {
      "image/png": "[encoded data removed]",
      "text/plain": [
       "<Figure size 640x480 with 1 Axes>"
      ]
     },
     "metadata": {},
     "output_type": "display_data"
    }
   ],
   "source": [
    "import matplotlib.pyplot as plt\n",
    "\n",
    "plt.title(\"Training Loss\")\n",
    "plt.plot(range(1, EPOCHS+1), train_losses)\n",
    "plt.xlabel('epoch')\n",
    "plt.ylabel('loss value')\n",
    "plt.show()"
   ]
  },
  {
   "cell_type": "code",
   "execution_count": 31,
   "metadata": {},
   "outputs": [
    {
     "name": "stdout",
     "output_type": "stream",
     "text": [
      "[(426, 2.60609769821167), (399, 2.517890691757202), (369, 2.479832649230957), (498, 2.438979387283325), (483, 2.4242234230041504), (371, 2.423776388168335), (451, 2.42232608795166), (470, 2.4064526557922363), (349, 2.4036455154418945), (413, 2.400721311569214)]\n"
     ]
    }
   ],
   "source": [
    "recommend_list = pipeline.recommend(g, 0)\n",
    "print(recommend_list[:10])"
   ]
  },
  {
   "cell_type": "code",
   "execution_count": 32,
   "metadata": {},
   "outputs": [],
   "source": [
    "MAX_CHANGES = 20\n",
    "NUM_PAIRS = 30\n",
    "\n",
    "FRIEND_SELECT_METHOD = \"rank\"\n",
    "RANK_TOP = 10"
   ]
  },
  {
   "cell_type": "code",
   "execution_count": 33,
   "metadata": {},
   "outputs": [
    {
     "data": {
      "text/plain": [
       "[(1994, 2145), (1661, 978), (117, 9), (364, 548), (412, 3693)]"
      ]
     },
     "execution_count": 33,
     "metadata": {},
     "output_type": "execute_result"
    }
   ],
   "source": [
    "import random\n",
    "\n",
    "pairs = []\n",
    "start = 50\n",
    "end = 100\n",
    "\n",
    "for _ in range(NUM_PAIRS):\n",
    "    tgt = random.randint(0, friendship_matrix.shape[0]-1)\n",
    "    recommend_list = pipeline.recommend(g, tgt)\n",
    "    src = select_source(recommend_list, start, end)\n",
    "    pairs.append((src, tgt))\n",
    "\n",
    "pairs[:5]"
   ]
  },
  {
   "cell_type": "code",
   "execution_count": 34,
   "metadata": {},
   "outputs": [],
   "source": [
    "def get_target_friends(friendship_matrix, feature_matrix, target):\n",
    "    users = []\n",
    "    friends = friendship_matrix.toarray()\n",
    "    features = feature_matrix.toarray()\n",
    "\n",
    "    for u, is_friend in enumerate(friends[target]):\n",
    "        if is_friend:\n",
    "            users.append(u)\n",
    "    users = np.array(users)\n",
    "    all_users_list = users.tolist()\n",
    "    all_users_features = features[all_users_list, :]\n",
    "\n",
    "    combined_features = np.sum(all_users_features, axis=0)\n",
    "\n",
    "    top_10_indices = np.argsort(combined_features)[-MAX_CHANGES:][::-1]\n",
    "    top_10_values = combined_features[top_10_indices]\n",
    "\n",
    "    return top_10_indices, top_10_values, all_users_features\n",
    "\n",
    "def get_target_rank_friends(friendship_matrix, feature_matrix, ranklist):\n",
    "    features = feature_matrix.toarray()\n",
    "    all_users_list = [ user for user, _ in ranklist[:RANK_TOP] ]\n",
    "    all_users_features = features[all_users_list, :]\n",
    "\n",
    "    combined_features = np.sum(all_users_features, axis=0)\n",
    "\n",
    "    top_10_indices = np.argsort(combined_features)[-MAX_CHANGES:][::-1]\n",
    "    top_10_values = combined_features[top_10_indices]\n",
    "\n",
    "    return top_10_indices, top_10_values, all_users_features\n",
    "\n",
    "def method_1(friendship_matrix, feature_matrix, pair, ranklist):\n",
    "    user_id, tgt = pair\n",
    "    if FRIEND_SELECT_METHOD == \"rank\":\n",
    "        top_10_indices, top_10_values , c = get_target_rank_friends(friendship_matrix, feature_matrix, ranklist)\n",
    "    else:\n",
    "        top_10_indices, top_10_values , c = get_target_friends(friendship_matrix, feature_matrix, tgt)\n",
    "    src, dst = np.nonzero(friendship_matrix)\n",
    "    g_change = dgl.graph((src, dst))\n",
    "    modified_features = feature_matrix.toarray().copy()\n",
    "    modified_features[user_id, top_10_indices] = 1\n",
    "    g_change.ndata['feat'] = torch.tensor(modified_features, dtype=torch.float32)\n",
    "    return g_change"
   ]
  },
  {
   "cell_type": "code",
   "execution_count": 35,
   "metadata": {},
   "outputs": [
    {
     "name": "stderr",
     "output_type": "stream",
     "text": [
      "100%|██████████| 100/100 [00:02<00:00, 46.93it/s]\n"
     ]
    },
    {
     "name": "stdout",
     "output_type": "stream",
     "text": [
      "\n",
      "AUC: 0.968136\n"
     ]
    },
    {
     "name": "stderr",
     "output_type": "stream",
     "text": [
      "100%|██████████| 100/100 [00:01<00:00, 51.46it/s]\n"
     ]
    },
    {
     "name": "stdout",
     "output_type": "stream",
     "text": [
      "\n",
      "AUC: 0.967426\n"
     ]
    },
    {
     "name": "stderr",
     "output_type": "stream",
     "text": [
      "100%|██████████| 100/100 [00:02<00:00, 48.08it/s]\n"
     ]
    },
    {
     "name": "stdout",
     "output_type": "stream",
     "text": [
      "\n",
      "AUC: 0.966911\n"
     ]
    },
    {
     "name": "stderr",
     "output_type": "stream",
     "text": [
      "100%|██████████| 100/100 [00:19<00:00,  5.21it/s]\n"
     ]
    },
    {
     "name": "stdout",
     "output_type": "stream",
     "text": [
      "\n",
      "AUC: 0.966503\n"
     ]
    },
    {
     "name": "stderr",
     "output_type": "stream",
     "text": [
      "100%|██████████| 100/100 [00:19<00:00,  5.15it/s]\n"
     ]
    },
    {
     "name": "stdout",
     "output_type": "stream",
     "text": [
      "\n",
      "AUC: 0.965645\n"
     ]
    },
    {
     "name": "stderr",
     "output_type": "stream",
     "text": [
      "100%|██████████| 100/100 [00:20<00:00,  4.94it/s]\n"
     ]
    },
    {
     "name": "stdout",
     "output_type": "stream",
     "text": [
      "\n",
      "AUC: 0.966891\n"
     ]
    },
    {
     "name": "stderr",
     "output_type": "stream",
     "text": [
      "100%|██████████| 100/100 [00:14<00:00,  6.85it/s]\n"
     ]
    },
    {
     "name": "stdout",
     "output_type": "stream",
     "text": [
      "\n",
      "AUC: 0.968073\n"
     ]
    },
    {
     "name": "stderr",
     "output_type": "stream",
     "text": [
      "100%|██████████| 100/100 [00:01<00:00, 59.26it/s]\n"
     ]
    },
    {
     "name": "stdout",
     "output_type": "stream",
     "text": [
      "\n",
      "AUC: 0.967149\n"
     ]
    },
    {
     "name": "stderr",
     "output_type": "stream",
     "text": [
      "100%|██████████| 100/100 [00:02<00:00, 47.94it/s]\n"
     ]
    },
    {
     "name": "stdout",
     "output_type": "stream",
     "text": [
      "\n",
      "AUC: 0.964187\n"
     ]
    },
    {
     "name": "stderr",
     "output_type": "stream",
     "text": [
      "100%|██████████| 100/100 [00:02<00:00, 48.71it/s]\n"
     ]
    },
    {
     "name": "stdout",
     "output_type": "stream",
     "text": [
      "\n",
      "AUC: 0.966432\n"
     ]
    },
    {
     "name": "stderr",
     "output_type": "stream",
     "text": [
      "100%|██████████| 100/100 [00:19<00:00,  5.09it/s]\n"
     ]
    },
    {
     "name": "stdout",
     "output_type": "stream",
     "text": [
      "\n",
      "AUC: 0.964731\n"
     ]
    },
    {
     "name": "stderr",
     "output_type": "stream",
     "text": [
      "100%|██████████| 100/100 [00:17<00:00,  5.66it/s]\n"
     ]
    },
    {
     "name": "stdout",
     "output_type": "stream",
     "text": [
      "\n",
      "AUC: 0.967959\n"
     ]
    },
    {
     "name": "stderr",
     "output_type": "stream",
     "text": [
      "100%|██████████| 100/100 [00:17<00:00,  5.60it/s]\n"
     ]
    },
    {
     "name": "stdout",
     "output_type": "stream",
     "text": [
      "\n",
      "AUC: 0.965868\n"
     ]
    },
    {
     "name": "stderr",
     "output_type": "stream",
     "text": [
      "100%|██████████| 100/100 [00:07<00:00, 12.62it/s]\n"
     ]
    },
    {
     "name": "stdout",
     "output_type": "stream",
     "text": [
      "\n",
      "AUC: 0.968012\n"
     ]
    },
    {
     "name": "stderr",
     "output_type": "stream",
     "text": [
      "100%|██████████| 100/100 [00:01<00:00, 57.92it/s]\n"
     ]
    },
    {
     "name": "stdout",
     "output_type": "stream",
     "text": [
      "\n",
      "AUC: 0.964965\n"
     ]
    },
    {
     "name": "stderr",
     "output_type": "stream",
     "text": [
      "100%|██████████| 100/100 [00:03<00:00, 26.32it/s]\n"
     ]
    },
    {
     "name": "stdout",
     "output_type": "stream",
     "text": [
      "\n",
      "AUC: 0.967346\n"
     ]
    },
    {
     "name": "stderr",
     "output_type": "stream",
     "text": [
      "100%|██████████| 100/100 [00:17<00:00,  5.74it/s]\n"
     ]
    },
    {
     "name": "stdout",
     "output_type": "stream",
     "text": [
      "\n",
      "AUC: 0.964080\n"
     ]
    },
    {
     "name": "stderr",
     "output_type": "stream",
     "text": [
      "100%|██████████| 100/100 [00:17<00:00,  5.78it/s]\n"
     ]
    },
    {
     "name": "stdout",
     "output_type": "stream",
     "text": [
      "\n",
      "AUC: 0.968263\n"
     ]
    },
    {
     "name": "stderr",
     "output_type": "stream",
     "text": [
      "100%|██████████| 100/100 [00:17<00:00,  5.71it/s]\n"
     ]
    },
    {
     "name": "stdout",
     "output_type": "stream",
     "text": [
      "\n",
      "AUC: 0.961577\n"
     ]
    },
    {
     "name": "stderr",
     "output_type": "stream",
     "text": [
      "100%|██████████| 100/100 [00:17<00:00,  5.85it/s]\n"
     ]
    },
    {
     "name": "stdout",
     "output_type": "stream",
     "text": [
      "\n",
      "AUC: 0.967012\n"
     ]
    },
    {
     "name": "stderr",
     "output_type": "stream",
     "text": [
      "100%|██████████| 100/100 [00:17<00:00,  5.79it/s]\n"
     ]
    },
    {
     "name": "stdout",
     "output_type": "stream",
     "text": [
      "\n",
      "AUC: 0.965037\n"
     ]
    },
    {
     "name": "stderr",
     "output_type": "stream",
     "text": [
      "100%|██████████| 100/100 [00:06<00:00, 14.61it/s]\n"
     ]
    },
    {
     "name": "stdout",
     "output_type": "stream",
     "text": [
      "\n",
      "AUC: 0.968701\n"
     ]
    },
    {
     "name": "stderr",
     "output_type": "stream",
     "text": [
      "100%|██████████| 100/100 [00:01<00:00, 60.13it/s]\n"
     ]
    },
    {
     "name": "stdout",
     "output_type": "stream",
     "text": [
      "\n",
      "AUC: 0.968018\n"
     ]
    },
    {
     "name": "stderr",
     "output_type": "stream",
     "text": [
      "100%|██████████| 100/100 [00:01<00:00, 60.66it/s]\n"
     ]
    },
    {
     "name": "stdout",
     "output_type": "stream",
     "text": [
      "\n",
      "AUC: 0.967392\n"
     ]
    },
    {
     "name": "stderr",
     "output_type": "stream",
     "text": [
      "100%|██████████| 100/100 [00:01<00:00, 60.51it/s]\n"
     ]
    },
    {
     "name": "stdout",
     "output_type": "stream",
     "text": [
      "\n",
      "AUC: 0.968673\n"
     ]
    },
    {
     "name": "stderr",
     "output_type": "stream",
     "text": [
      "100%|██████████| 100/100 [00:01<00:00, 59.99it/s]\n"
     ]
    },
    {
     "name": "stdout",
     "output_type": "stream",
     "text": [
      "\n",
      "AUC: 0.959271\n"
     ]
    },
    {
     "name": "stderr",
     "output_type": "stream",
     "text": [
      "100%|██████████| 100/100 [00:01<00:00, 59.35it/s]\n"
     ]
    },
    {
     "name": "stdout",
     "output_type": "stream",
     "text": [
      "\n",
      "AUC: 0.961762\n"
     ]
    },
    {
     "name": "stderr",
     "output_type": "stream",
     "text": [
      "100%|██████████| 100/100 [00:01<00:00, 58.91it/s]\n"
     ]
    },
    {
     "name": "stdout",
     "output_type": "stream",
     "text": [
      "\n",
      "AUC: 0.966643\n"
     ]
    },
    {
     "name": "stderr",
     "output_type": "stream",
     "text": [
      "100%|██████████| 100/100 [00:01<00:00, 58.89it/s]\n"
     ]
    },
    {
     "name": "stdout",
     "output_type": "stream",
     "text": [
      "\n",
      "AUC: 0.967298\n"
     ]
    },
    {
     "name": "stderr",
     "output_type": "stream",
     "text": [
      "100%|██████████| 100/100 [00:01<00:00, 60.20it/s]\n"
     ]
    },
    {
     "name": "stdout",
     "output_type": "stream",
     "text": [
      "\n",
      "AUC: 0.968338\n"
     ]
    },
    {
     "name": "stderr",
     "output_type": "stream",
     "text": [
      "100%|██████████| 30/30 [07:45<00:00, 15.52s/it]"
     ]
    },
    {
     "name": "stdout",
     "output_type": "stream",
     "text": [
      "{'average': 47.25, 'max': 55, 'min': 35}\n"
     ]
    },
    {
     "name": "stderr",
     "output_type": "stream",
     "text": [
      "\n"
     ]
    }
   ],
   "source": [
    "from tqdm.auto import tqdm\n",
    "\n",
    "origin_ranks, new_ranks = [], []\n",
    "\n",
    "for pair in tqdm(pairs):\n",
    "    g_change = method_1(friendship_matrix, feature_matrix, pair, pipeline.recommend(g, pair[1]))\n",
    "\n",
    "    origin_rank = pipeline.predict_rank(g, pair[0], pair[1])\n",
    "\n",
    "    ds = split_dataset(g_change)\n",
    "    new_pipeline = Pipeline(\"GCN\", 16, feature_matrix.shape[1])\n",
    "    train_losses = new_pipeline.train(ds)\n",
    "\n",
    "    #new_rank = pipeline.predict_rank(g_change, pair[0], pair[1])\n",
    "    new_rank = new_pipeline.predict_rank(g_change, pair[0], pair[1])\n",
    "\n",
    "    origin_ranks.append(origin_rank)\n",
    "    new_ranks.append(new_rank)\n",
    "\n",
    "print( compute_rank_error(origin_ranks, new_ranks) )    "
   ]
  },
  {
   "cell_type": "code",
   "execution_count": 36,
   "metadata": {},
   "outputs": [
    {
     "name": "stdout",
     "output_type": "stream",
     "text": [
      "[76, 69, 56, 90, 74, 82, 82, 84, 85, 99, 97, 50, 51, 89, 75, 56, 98, 68, 62, 84, 69, 97, 66, 97, 88, 99, 51, 90, 94, 96]\n",
      "[470, 539, 153, 35, 2854, 428, 3658, 520, 577, 159, 502, 588, 518, 596, 25, 275, 148, 1698, 504, 439, 444, 292, 511, 182, 53, 464, 213, 750, 45, 611]\n"
     ]
    }
   ],
   "source": [
    "print(origin_ranks)\n",
    "print(new_ranks)"
   ]
  }
 ],
 "metadata": {
  "kernelspec": {
   "display_name": ".venv",
   "language": "python",
   "name": "python3"
  },
  "language_info": {
   "codemirror_mode": {
    "name": "ipython",
    "version": 3
   },
   "file_extension": ".py",
   "mimetype": "text/x-python",
   "name": "python",
   "nbconvert_exporter": "python",
   "pygments_lexer": "ipython3",
   "version": "3.11.9"
  }
 },
 "nbformat": 4,
 "nbformat_minor": 2
}
