{
 "cells": [
  {
   "cell_type": "code",
   "execution_count": 26,
   "metadata": {},
   "outputs": [],
   "source": [
    "import os\n",
    "import pickle\n",
    "import torch\n",
    "import numpy as np\n",
    "import scipy.sparse as sp\n",
    "import dgl\n",
    "\n",
    "from utils import select_source, compute_rank_error, compute_hit_ratio\n",
    "\n",
    "import warnings\n",
    "warnings.filterwarnings(\"ignore\", category=DeprecationWarning)"
   ]
  },
  {
   "cell_type": "code",
   "execution_count": 27,
   "metadata": {},
   "outputs": [],
   "source": [
    "SEED = 42\n",
    "EPOCHS = 100\n",
    "TEST_RATIO = 0.3  # ratio for splitting the test set\n",
    "DEVICE = \"cpu\""
   ]
  },
  {
   "cell_type": "code",
   "execution_count": 28,
   "metadata": {},
   "outputs": [
    {
     "name": "stdout",
     "output_type": "stream",
     "text": [
      "Friendship matrix shape : (4039, 4039)\n",
      "Feature matrix shape    : (4039, 1283)\n"
     ]
    },
    {
     "data": {
      "text/plain": [
       "Graph(num_nodes=4039, num_edges=176468,\n",
       "      ndata_schemes={'feat': Scheme(shape=(1283,), dtype=torch.float32)}\n",
       "      edata_schemes={})"
      ]
     },
     "execution_count": 28,
     "metadata": {},
     "output_type": "execute_result"
    }
   ],
   "source": [
    "with open(os.path.join(\"facebook\", \"combined-adj-sparsefeat.pkl\"), \"rb\") as f:\n",
    "    friendship_matrix, feature_matrix = pickle.load(f, encoding='latin1')\n",
    "\n",
    "print(f\"Friendship matrix shape : {friendship_matrix.shape}\")\n",
    "print(f\"Feature matrix shape    : {feature_matrix.shape}\")\n",
    "\n",
    "src, dst = np.nonzero(friendship_matrix)\n",
    "g = dgl.graph((src, dst))\n",
    "g.ndata['feat'] = torch.tensor(feature_matrix.todense(), dtype=torch.float32)\n",
    "g"
   ]
  },
  {
   "cell_type": "code",
   "execution_count": 29,
   "metadata": {},
   "outputs": [],
   "source": [
    "def split_dataset(g):\n",
    "\n",
    "    u, v = g.edges()\n",
    "\n",
    "    eids = np.arange(g.number_of_edges())\n",
    "    np.random.seed( SEED )\n",
    "    eids = np.random.permutation(eids)\n",
    "    test_size = int(len(eids) * TEST_RATIO)  # number of edges in test set\n",
    "\n",
    "    # get positive edges for test and train\n",
    "    test_pos_u, test_pos_v = u[eids[:test_size]], v[eids[:test_size]]\n",
    "    train_pos_u, train_pos_v = u[eids[test_size:]], v[eids[test_size:]]\n",
    "\n",
    "    # Find all negative edges\n",
    "    adj = sp.coo_matrix((np.ones(len(u)), (u.numpy(), v.numpy())))\n",
    "    adj_neg = 1 - adj.todense() - np.eye(g.number_of_nodes())\n",
    "    neg_u, neg_v = np.where(adj_neg != 0)\n",
    "\n",
    "    # split the negative edges for training and testing\n",
    "    np.random.seed( SEED )\n",
    "    neg_eids = np.random.choice(len(neg_u), g.number_of_edges())\n",
    "    test_neg_u, test_neg_v = neg_u[neg_eids[:test_size]], neg_v[neg_eids[:test_size]]\n",
    "    train_neg_u, train_neg_v = neg_u[neg_eids[test_size:]], neg_v[neg_eids[test_size:]]\n",
    "\n",
    "    # construct positive and negative graphs for training and testing\n",
    "    train_pos_g = dgl.graph((train_pos_u, train_pos_v), num_nodes=g.number_of_nodes())\n",
    "    train_neg_g = dgl.graph((train_neg_u, train_neg_v), num_nodes=g.number_of_nodes())\n",
    "\n",
    "    test_pos_g = dgl.graph((test_pos_u, test_pos_v), num_nodes=g.number_of_nodes())\n",
    "    test_neg_g = dgl.graph((test_neg_u, test_neg_v), num_nodes=g.number_of_nodes())\n",
    "\n",
    "    # training graph\n",
    "    train_g = dgl.remove_edges(g, eids[:test_size])\n",
    "    train_g = dgl.add_self_loop(train_g)\n",
    "\n",
    "    return {\n",
    "        \"train_pos_g\": train_pos_g,\n",
    "        \"train_neg_g\": train_neg_g,\n",
    "        \"test_pos_g\":  test_pos_g,\n",
    "        \"test_neg_g\":  test_neg_g,\n",
    "        \"train_g\":     train_g\n",
    "    }"
   ]
  },
  {
   "cell_type": "code",
   "execution_count": 30,
   "metadata": {},
   "outputs": [
    {
     "name": "stderr",
     "output_type": "stream",
     "text": [
      "100%|██████████| 100/100 [00:02<00:00, 43.49it/s]"
     ]
    },
    {
     "name": "stdout",
     "output_type": "stream",
     "text": [
      "\n",
      "AUC: 0.966120\n"
     ]
    },
    {
     "name": "stderr",
     "output_type": "stream",
     "text": [
      "\n"
     ]
    }
   ],
   "source": [
    "from model import Pipeline\n",
    "\n",
    "pipeline = Pipeline(\"GCN\", 16, feature_matrix.shape[1])\n",
    "ds = split_dataset(g)\n",
    "train_losses = pipeline.train(ds)"
   ]
  },
  {
   "cell_type": "code",
   "execution_count": 31,
   "metadata": {},
   "outputs": [
    {
     "data": {
      "image/png": "[encoded data removed]",
      "text/plain": [
       "<Figure size 640x480 with 1 Axes>"
      ]
     },
     "metadata": {},
     "output_type": "display_data"
    }
   ],
   "source": [
    "import matplotlib.pyplot as plt\n",
    "\n",
    "plt.title(\"Training Loss\")\n",
    "plt.plot(range(1, EPOCHS+1), train_losses)\n",
    "plt.xlabel('epoch')\n",
    "plt.ylabel('loss value')\n",
    "plt.show()"
   ]
  },
  {
   "cell_type": "code",
   "execution_count": 32,
   "metadata": {},
   "outputs": [
    {
     "name": "stdout",
     "output_type": "stream",
     "text": [
      "[(338, 16.49213981628418), (350, 10.946106910705566), (480, 10.273445129394531), (365, 10.024858474731445), (357, 9.557717323303223), (371, 9.347419738769531), (3089, 9.345539093017578), (457, 9.338579177856445), (399, 9.16080093383789), (475, 8.825915336608887)]\n"
     ]
    }
   ],
   "source": [
    "recommend_list = pipeline.recommend(g, 0)\n",
    "print(recommend_list[:10])"
   ]
  },
  {
   "cell_type": "code",
   "execution_count": 33,
   "metadata": {},
   "outputs": [],
   "source": [
    "MAX_CHANGES = 10\n",
    "NUM_PAIRS = 20\n",
    "\n",
    "FRIEND_SELECT_METHOD = \"friend\"\n",
    "RANK_TOP = 10"
   ]
  },
  {
   "cell_type": "code",
   "execution_count": 34,
   "metadata": {},
   "outputs": [
    {
     "data": {
      "text/plain": [
       "[(1247, 1764), (1653, 1626), (1248, 1662), (3102, 2700), (3694, 3719)]"
      ]
     },
     "execution_count": 34,
     "metadata": {},
     "output_type": "execute_result"
    }
   ],
   "source": [
    "import random\n",
    "\n",
    "pairs = []\n",
    "start = 100\n",
    "end = 200\n",
    "\n",
    "for _ in range(NUM_PAIRS):\n",
    "    tgt = random.randint(0, friendship_matrix.shape[0]-1)\n",
    "    recommend_list = pipeline.recommend(g, tgt)\n",
    "    src = select_source(recommend_list, start, end)\n",
    "    pairs.append((src, tgt))\n",
    "\n",
    "pairs[:5]"
   ]
  },
  {
   "cell_type": "code",
   "execution_count": 35,
   "metadata": {},
   "outputs": [],
   "source": [
    "def get_target_friends(friendship_matrix, feature_matrix, target):\n",
    "    users = []\n",
    "    friends = friendship_matrix.toarray()\n",
    "    features = feature_matrix.toarray()\n",
    "\n",
    "    for u, is_friend in enumerate(friends[target]):\n",
    "        if is_friend:\n",
    "            users.append(u)\n",
    "    users = np.array(users)\n",
    "    all_users_list = users.tolist()\n",
    "    all_users_features = features[all_users_list, :]\n",
    "\n",
    "    combined_features = np.sum(all_users_features, axis=0)\n",
    "\n",
    "    top_10_indices = np.argsort(combined_features)[-MAX_CHANGES:][::-1]\n",
    "    top_10_values = combined_features[top_10_indices]\n",
    "\n",
    "    return top_10_indices, top_10_values, all_users_features\n",
    "\n",
    "def get_target_rank_friends(friendship_matrix, feature_matrix, ranklist):\n",
    "    features = feature_matrix.toarray()\n",
    "    all_users_list = [ user for user, _ in ranklist[:RANK_TOP] ]\n",
    "    all_users_features = features[all_users_list, :]\n",
    "\n",
    "    combined_features = np.sum(all_users_features, axis=0)\n",
    "\n",
    "    top_10_indices = np.argsort(combined_features)[-MAX_CHANGES:][::-1]\n",
    "    top_10_values = combined_features[top_10_indices]\n",
    "\n",
    "    return top_10_indices, top_10_values, all_users_features\n",
    "\n",
    "def method_1(friendship_matrix, feature_matrix, pair, ranklist):\n",
    "    user_id, tgt = pair\n",
    "    if FRIEND_SELECT_METHOD == \"rank\":\n",
    "        top_10_indices, top_10_values , c = get_target_rank_friends(friendship_matrix, feature_matrix, ranklist)\n",
    "    else:\n",
    "        top_10_indices, top_10_values , c = get_target_friends(friendship_matrix, feature_matrix, tgt)\n",
    "    src, dst = np.nonzero(friendship_matrix)\n",
    "    g_change = dgl.graph((src, dst))\n",
    "    modified_features = feature_matrix.toarray().copy()\n",
    "    modified_features[user_id, top_10_indices] = 1\n",
    "    g_change.ndata['feat'] = torch.tensor(modified_features, dtype=torch.float32)\n",
    "    return g_change"
   ]
  },
  {
   "cell_type": "code",
   "execution_count": 36,
   "metadata": {},
   "outputs": [
    {
     "name": "stderr",
     "output_type": "stream",
     "text": [
      "  0%|          | 0/20 [00:00<?, ?it/s]\n"
     ]
    },
    {
     "ename": "AttributeError",
     "evalue": "'int' object has no attribute 'ndata'",
     "output_type": "error",
     "traceback": [
      "\u001b[1;31m---------------------------------------------------------------------------\u001b[0m",
      "\u001b[1;31mAttributeError\u001b[0m                            Traceback (most recent call last)",
      "Cell \u001b[1;32mIn[36], line 6\u001b[0m\n\u001b[0;32m      3\u001b[0m origin_ranks, new_ranks \u001b[38;5;241m=\u001b[39m [], []\n\u001b[0;32m      5\u001b[0m \u001b[38;5;28;01mfor\u001b[39;00m pair \u001b[38;5;129;01min\u001b[39;00m tqdm(pairs):\n\u001b[1;32m----> 6\u001b[0m     g_change \u001b[38;5;241m=\u001b[39m method_1(friendship_matrix, feature_matrix, pair, \u001b[43mpipeline\u001b[49m\u001b[38;5;241;43m.\u001b[39;49m\u001b[43mrecommend\u001b[49m\u001b[43m(\u001b[49m\u001b[43mpair\u001b[49m\u001b[43m[\u001b[49m\u001b[38;5;241;43m1\u001b[39;49m\u001b[43m]\u001b[49m\u001b[43m)\u001b[49m)\n\u001b[0;32m      8\u001b[0m     origin_rank \u001b[38;5;241m=\u001b[39m pipeline\u001b[38;5;241m.\u001b[39mpredict_rank(g, pair[\u001b[38;5;241m0\u001b[39m], pair[\u001b[38;5;241m1\u001b[39m])\n\u001b[0;32m     10\u001b[0m     ds \u001b[38;5;241m=\u001b[39m split_dataset(g_change)\n",
      "File \u001b[1;32mc:\\Users\\larry\\OneDrive - 國立成功大學 National Cheng Kung University\\大四\\大四下\\資料探勘\\SNA-make-friend\\model.py:103\u001b[0m, in \u001b[0;36mPipeline.recommend\u001b[1;34m(self, input_graph, user_id)\u001b[0m\n\u001b[0;32m    100\u001b[0m \u001b[38;5;28;01mdef\u001b[39;00m \u001b[38;5;21mrecommend\u001b[39m(\u001b[38;5;28mself\u001b[39m, input_graph, user_id\u001b[38;5;241m=\u001b[39m\u001b[38;5;241m0\u001b[39m):\n\u001b[0;32m    101\u001b[0m     \n\u001b[0;32m    102\u001b[0m     \u001b[38;5;66;03m# `h` represents the node embeddings, with shape [num_nodes, hidden_size]\u001b[39;00m\n\u001b[1;32m--> 103\u001b[0m     h \u001b[38;5;241m=\u001b[39m \u001b[38;5;28mself\u001b[39m\u001b[38;5;241m.\u001b[39mmodel(input_graph, \u001b[43minput_graph\u001b[49m\u001b[38;5;241;43m.\u001b[39;49m\u001b[43mndata\u001b[49m[\u001b[38;5;124m'\u001b[39m\u001b[38;5;124mfeat\u001b[39m\u001b[38;5;124m'\u001b[39m])\n\u001b[0;32m    104\u001b[0m     \u001b[38;5;66;03m# generate a graph with (num_nodes - num_friends_of_user) edges\u001b[39;00m\n\u001b[0;32m    105\u001b[0m     \u001b[38;5;66;03m# one end of the edge is user_id\u001b[39;00m\n\u001b[0;32m    106\u001b[0m     \u001b[38;5;66;03m# the other end is a user that's NOT friends with user_id\u001b[39;00m\n\u001b[0;32m    107\u001b[0m     u, v \u001b[38;5;241m=\u001b[39m input_graph\u001b[38;5;241m.\u001b[39medges()\n",
      "\u001b[1;31mAttributeError\u001b[0m: 'int' object has no attribute 'ndata'"
     ]
    }
   ],
   "source": [
    "from tqdm.auto import tqdm\n",
    "\n",
    "origin_ranks, new_ranks = [], []\n",
    "\n",
    "for pair in tqdm(pairs):\n",
    "    g_change = method_1(friendship_matrix, feature_matrix, pair, pipeline.recommend(g, pair[1]))\n",
    "\n",
    "    origin_rank = pipeline.predict_rank(g, pair[0], pair[1])\n",
    "\n",
    "    ds = split_dataset(g_change)\n",
    "    new_pipeline = Pipeline(\"GCN\", 16, feature_matrix.shape[1])\n",
    "    train_losses = new_pipeline.train(ds)\n",
    "\n",
    "    #new_rank = pipeline.predict_rank(g_change, pair[0], pair[1])\n",
    "    new_rank = new_pipeline.predict_rank(g_change, pair[0], pair[1])\n",
    "\n",
    "    origin_ranks.append(origin_rank)\n",
    "    new_ranks.append(new_rank)\n",
    "\n",
    "print( compute_rank_error(origin_ranks, new_ranks) )    "
   ]
  },
  {
   "cell_type": "code",
   "execution_count": null,
   "metadata": {},
   "outputs": [
    {
     "name": "stdout",
     "output_type": "stream",
     "text": [
      "[187, 145, 155, 118, 156, 153, 147, 156, 178, 131, 199, 163, 139, 160, 104, 197, 154, 152, 172, 176]\n",
      "[205, 131, 158, 117, 124, 114, 164, 140, 277, 129, 1395, 156, 153, 151, 102, 206, 106, 154, 163, 200]\n"
     ]
    }
   ],
   "source": [
    "print(origin_ranks)\n",
    "print(new_ranks)"
   ]
  }
 ],
 "metadata": {
  "kernelspec": {
   "display_name": ".venv",
   "language": "python",
   "name": "python3"
  },
  "language_info": {
   "codemirror_mode": {
    "name": "ipython",
    "version": 3
   },
   "file_extension": ".py",
   "mimetype": "text/x-python",
   "name": "python",
   "nbconvert_exporter": "python",
   "pygments_lexer": "ipython3",
   "version": "3.11.9"
  }
 },
 "nbformat": 4,
 "nbformat_minor": 2
}
