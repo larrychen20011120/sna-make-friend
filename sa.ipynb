{
 "cells": [
  {
   "cell_type": "code",
   "execution_count": 1,
   "metadata": {},
   "outputs": [
    {
     "name": "stderr",
     "output_type": "stream",
     "text": [
      "c:\\Users\\larry\\OneDrive - 國立成功大學 National Cheng Kung University\\大四\\大四下\\資料探勘\\SNA-make-friend\\.venv\\Lib\\site-packages\\tqdm\\auto.py:21: TqdmWarning: IProgress not found. Please update jupyter and ipywidgets. See https://ipywidgets.readthedocs.io/en/stable/user_install.html\n",
      "  from .autonotebook import tqdm as notebook_tqdm\n"
     ]
    }
   ],
   "source": [
    "import os\n",
    "import pickle\n",
    "import torch\n",
    "import numpy as np\n",
    "import scipy.sparse as sp\n",
    "import dgl\n",
    "from tqdm.auto import tqdm\n",
    "import math\n",
    "import random\n",
    "\n",
    "from utils import select_source, compute_rank_error, compute_hit_ratio\n",
    "\n",
    "import warnings\n",
    "warnings.filterwarnings(\"ignore\", category=DeprecationWarning)"
   ]
  },
  {
   "cell_type": "code",
   "execution_count": 2,
   "metadata": {},
   "outputs": [],
   "source": [
    "SEED = 42\n",
    "EPOCHS = 100\n",
    "TEST_RATIO = 0.3  # ratio for splitting the test set\n",
    "DEVICE = \"cpu\""
   ]
  },
  {
   "cell_type": "code",
   "execution_count": 3,
   "metadata": {},
   "outputs": [
    {
     "name": "stdout",
     "output_type": "stream",
     "text": [
      "Friendship matrix shape : (4039, 4039)\n",
      "Feature matrix shape    : (4039, 1283)\n"
     ]
    },
    {
     "data": {
      "text/plain": [
       "Graph(num_nodes=4039, num_edges=176468,\n",
       "      ndata_schemes={'feat': Scheme(shape=(1283,), dtype=torch.float32)}\n",
       "      edata_schemes={})"
      ]
     },
     "execution_count": 3,
     "metadata": {},
     "output_type": "execute_result"
    }
   ],
   "source": [
    "with open(os.path.join(\"facebook\", \"combined-adj-sparsefeat.pkl\"), \"rb\") as f:\n",
    "    friendship_matrix, feature_matrix = pickle.load(f, encoding='latin1')\n",
    "\n",
    "print(f\"Friendship matrix shape : {friendship_matrix.shape}\")\n",
    "print(f\"Feature matrix shape    : {feature_matrix.shape}\")\n",
    "\n",
    "src, dst = np.nonzero(friendship_matrix)\n",
    "g = dgl.graph((src, dst))\n",
    "g.ndata['feat'] = torch.tensor(feature_matrix.todense(), dtype=torch.float32)\n",
    "g"
   ]
  },
  {
   "cell_type": "code",
   "execution_count": 4,
   "metadata": {},
   "outputs": [],
   "source": [
    "def split_dataset(g):\n",
    "\n",
    "    u, v = g.edges()\n",
    "\n",
    "    eids = np.arange(g.number_of_edges())\n",
    "    np.random.seed( SEED )\n",
    "    eids = np.random.permutation(eids)\n",
    "    test_size = int(len(eids) * TEST_RATIO)  # number of edges in test set\n",
    "\n",
    "    # get positive edges for test and train\n",
    "    test_pos_u, test_pos_v = u[eids[:test_size]], v[eids[:test_size]]\n",
    "    train_pos_u, train_pos_v = u[eids[test_size:]], v[eids[test_size:]]\n",
    "\n",
    "    # Find all negative edges\n",
    "    adj = sp.coo_matrix((np.ones(len(u)), (u.numpy(), v.numpy())))\n",
    "    adj_neg = 1 - adj.todense() - np.eye(g.number_of_nodes())\n",
    "    neg_u, neg_v = np.where(adj_neg != 0)\n",
    "\n",
    "    # split the negative edges for training and testing\n",
    "    np.random.seed( SEED )\n",
    "    neg_eids = np.random.choice(len(neg_u), g.number_of_edges())\n",
    "    test_neg_u, test_neg_v = neg_u[neg_eids[:test_size]], neg_v[neg_eids[:test_size]]\n",
    "    train_neg_u, train_neg_v = neg_u[neg_eids[test_size:]], neg_v[neg_eids[test_size:]]\n",
    "\n",
    "    # construct positive and negative graphs for training and testing\n",
    "    train_pos_g = dgl.graph((train_pos_u, train_pos_v), num_nodes=g.number_of_nodes())\n",
    "    train_neg_g = dgl.graph((train_neg_u, train_neg_v), num_nodes=g.number_of_nodes())\n",
    "\n",
    "    test_pos_g = dgl.graph((test_pos_u, test_pos_v), num_nodes=g.number_of_nodes())\n",
    "    test_neg_g = dgl.graph((test_neg_u, test_neg_v), num_nodes=g.number_of_nodes())\n",
    "\n",
    "    # training graph\n",
    "    train_g = dgl.remove_edges(g, eids[:test_size])\n",
    "    train_g = dgl.add_self_loop(train_g)\n",
    "\n",
    "    return {\n",
    "        \"train_pos_g\": train_pos_g,\n",
    "        \"train_neg_g\": train_neg_g,\n",
    "        \"test_pos_g\":  test_pos_g,\n",
    "        \"test_neg_g\":  test_neg_g,\n",
    "        \"train_g\":     train_g\n",
    "    }"
   ]
  },
  {
   "cell_type": "code",
   "execution_count": 5,
   "metadata": {},
   "outputs": [
    {
     "name": "stderr",
     "output_type": "stream",
     "text": [
      "100%|██████████| 100/100 [00:14<00:00,  7.01it/s]"
     ]
    },
    {
     "name": "stdout",
     "output_type": "stream",
     "text": [
      "\n",
      "AUC: 0.960658\n"
     ]
    },
    {
     "name": "stderr",
     "output_type": "stream",
     "text": [
      "\n"
     ]
    }
   ],
   "source": [
    "from model import Pipeline\n",
    "\n",
    "pipeline = Pipeline(\"GCN\", 16, feature_matrix.shape[1])\n",
    "ds = split_dataset(g)\n",
    "train_losses = pipeline.train(ds)"
   ]
  },
  {
   "cell_type": "code",
   "execution_count": 6,
   "metadata": {},
   "outputs": [
    {
     "data": {
      "image/png": "[encoded data removed]",
      "text/plain": [
       "<Figure size 640x480 with 1 Axes>"
      ]
     },
     "metadata": {},
     "output_type": "display_data"
    }
   ],
   "source": [
    "import matplotlib.pyplot as plt\n",
    "\n",
    "plt.title(\"Training Loss\")\n",
    "plt.plot(range(1, EPOCHS+1), train_losses)\n",
    "plt.xlabel('epoch')\n",
    "plt.ylabel('loss value')\n",
    "plt.show()"
   ]
  },
  {
   "cell_type": "code",
   "execution_count": 7,
   "metadata": {},
   "outputs": [
    {
     "name": "stdout",
     "output_type": "stream",
     "text": [
      "[(1564, 3.088592529296875), (1699, 1.4458916187286377), (1965, 1.41013503074646)]\n"
     ]
    }
   ],
   "source": [
    "recommend_list = pipeline.recommend(g, 0)\n",
    "print(recommend_list[:3])"
   ]
  },
  {
   "cell_type": "code",
   "execution_count": 8,
   "metadata": {},
   "outputs": [],
   "source": [
    "MAX_CHANGES = 10\n",
    "NUM_PAIRS = 5\n",
    "\n",
    "RESTART_RATIO = 0.1\n",
    "EPSILON = 1e-5\n",
    "WALK_GRAPH = \"weighted\"\n",
    "\n",
    "START_TEMP = 10000\n",
    "END_TEMP = 0\n",
    "COOLING_RATE = 0.93\n",
    "MAX_ITER = 100"
   ]
  },
  {
   "cell_type": "code",
   "execution_count": 9,
   "metadata": {},
   "outputs": [
    {
     "data": {
      "text/plain": [
       "[(2484, 2619), (1018, 456), (74, 102), (3069, 3037), (1077, 1126)]"
      ]
     },
     "execution_count": 9,
     "metadata": {},
     "output_type": "execute_result"
    }
   ],
   "source": [
    "import random\n",
    "\n",
    "pairs = []\n",
    "start = 100\n",
    "end = 200\n",
    "\n",
    "random.seed(SEED)\n",
    "targets = random.sample(range(0, friendship_matrix.shape[0]-1), NUM_PAIRS)\n",
    "\n",
    "for tgt in targets:\n",
    "    recommend_list = pipeline.recommend(g, tgt)\n",
    "    src = select_source(recommend_list, start, end)\n",
    "    pairs.append((src, tgt))\n",
    "\n",
    "pairs[:5]"
   ]
  },
  {
   "cell_type": "code",
   "execution_count": 10,
   "metadata": {},
   "outputs": [],
   "source": [
    "def random_walk_with_restart(graph, start_point, restart_ratio, max_iter=100, tol=1e-6, device=torch.device(\"cpu\")):\n",
    "    # graph is already torch tensor\n",
    "    init_vector = torch.zeros((graph.shape[0], 1), device=device)\n",
    "    init_vector[start_point, 0] = 1\n",
    "    p = init_vector.clone()\n",
    "    \n",
    "    for _ in range(max_iter):\n",
    "        prev_p = p.clone()\n",
    "        p = (1 - restart_ratio) * torch.mm(graph, p) + restart_ratio * init_vector\n",
    "        if torch.norm(p - prev_p, p=1).item() < tol:\n",
    "            break\n",
    "    return p\n",
    "\n",
    "def construct_normalized_graph(friends, features, epsilon=1e-4, walk_graph=\"weighted\", device=torch.device(\"cpu\")):\n",
    "    if walk_graph == \"adj\":\n",
    "        # normalize friends\n",
    "        friends += epsilon * torch.eye(friends.shape[0], device=device)\n",
    "        normalized_friends = friends / friends.sum(dim=1, keepdim=True)\n",
    "\n",
    "    elif walk_graph == \"weighted\":\n",
    "        # Compute feature inner product matrix\n",
    "        feature_inner_product = torch.mm(features, features.t())\n",
    "        \n",
    "        # Replace the original adjacency matrix values with feature inner product values\n",
    "        neighbors = (friends == 1)\n",
    "        friends = friends.clone()  # Make a copy to avoid modifying the original tensor\n",
    "        friends[neighbors] = feature_inner_product[neighbors]\n",
    "        \n",
    "        # Normalize the friends matrix\n",
    "        friends += epsilon * torch.eye(friends.shape[0], device=device)\n",
    "        normalized_friends = friends / friends.sum(dim=1, keepdim=True)\n",
    "\n",
    "    else:\n",
    "        raise ValueError(\"Error in reading parameter walk graph!!\")\n",
    "\n",
    "    return normalized_friends"
   ]
  },
  {
   "cell_type": "code",
   "execution_count": 11,
   "metadata": {},
   "outputs": [],
   "source": [
    "def init_answer(node_size, feature_size):\n",
    "\n",
    "    feature_change_size = np.random.choice(MAX_CHANGES, 1)[0]\n",
    "    node_change_size = MAX_CHANGES - feature_change_size\n",
    "    feature_list = np.arange(feature_size)\n",
    "    node_list = np.arange(feature_size, feature_size + node_size)\n",
    "    np.random.shuffle(feature_list)\n",
    "    np.random.shuffle(node_list)\n",
    "\n",
    "    return list(feature_list[:feature_change_size]) + list(node_list[:node_change_size])\n",
    "\n",
    "def alter_graph(input_graph, answer, src):\n",
    "    input_graph = input_graph.clone()\n",
    "    feature_size = input_graph.ndata['feat'].shape[1]\n",
    "\n",
    "    for a in answer:\n",
    "        if a < feature_size:\n",
    "            replaced_value = 1 - input_graph.ndata['feat'][src, a]\n",
    "            input_graph.ndata['feat'][src, a] = 0 if replaced_value < 0 else replaced_value\n",
    "        else:\n",
    "            a -= feature_size\n",
    "            if not input_graph.has_edges_between([src], [a])[0]:\n",
    "                input_graph.add_edges([src], [a])\n",
    "                input_graph.add_edges([a], [src])\n",
    "            else:\n",
    "                eid = input_graph.edge_ids(src, a)\n",
    "                input_graph.remove_edges(eid)\n",
    "\n",
    "    return input_graph"
   ]
  },
  {
   "cell_type": "code",
   "execution_count": 12,
   "metadata": {},
   "outputs": [],
   "source": [
    "def simulated_annealing(\n",
    "    g, pair\n",
    "):\n",
    "    temperature = START_TEMP\n",
    "\n",
    "    user_id, tgt = pair\n",
    "    g_copy = dgl.remove_self_loop(g.clone())\n",
    "    device = torch.device(DEVICE)\n",
    "\n",
    "    # 隨機挑選初始值並產生初始解\n",
    "    node_size = g.ndata['feat'].shape[0]\n",
    "    feature_size = g.ndata['feat'].shape[1]\n",
    "    curr_answer = init_answer(node_size, feature_size)\n",
    "    alter_g = alter_graph(g_copy, curr_answer, user_id)\n",
    "\n",
    "    # get friends and feature metrix\n",
    "    alter_g = dgl.remove_self_loop(alter_g)\n",
    "    # get friends and feature metrix\n",
    "    friends = alter_g.adj().to_dense()\n",
    "    features = alter_g.ndata['feat'].to(device)\n",
    "    # turn to float\n",
    "    friends = friends.type(torch.FloatTensor).to(device)\n",
    "\n",
    "    normalized_friends = construct_normalized_graph(friends, features, EPSILON, WALK_GRAPH, device)\n",
    "    proximity = random_walk_with_restart(normalized_friends, tgt, RESTART_RATIO, device=device)\n",
    "    \n",
    "    proximity = proximity.reshape(-1)\n",
    "    curr_fitness = proximity[user_id]\n",
    "\n",
    "    for _ in tqdm(range(MAX_ITER)):\n",
    "        if temperature == END_TEMP:\n",
    "            return curr_answer, curr_fitness\n",
    "    \n",
    "        # generate next answer -> random pick & alter it\n",
    "        alter_pos = np.random.choice(len(curr_answer), 1)[0]\n",
    "        r = np.random.randint(0, node_size+feature_size)\n",
    "\n",
    "        while r in curr_answer:\n",
    "            r = np.random.randint(0, node_size+feature_size)\n",
    "\n",
    "        next_answer = curr_answer[:]\n",
    "        next_answer[alter_pos] = r\n",
    "        alter_g = alter_graph(g_copy, next_answer, user_id)\n",
    "\n",
    "        # get friends and feature metrix\n",
    "        alter_g = dgl.remove_self_loop(alter_g)\n",
    "        # get friends and feature metrix\n",
    "        friends = alter_g.adj().to_dense()\n",
    "        features = alter_g.ndata['feat'].to(device)\n",
    "        # turn to float\n",
    "        friends = friends.type(torch.FloatTensor).to(device)\n",
    "\n",
    "        normalized_friends = construct_normalized_graph(friends, features, EPSILON, WALK_GRAPH, device)\n",
    "        proximity = random_walk_with_restart(normalized_friends, tgt, RESTART_RATIO, device=device)\n",
    "\n",
    "        proximity = proximity.reshape(-1)\n",
    "\n",
    "        next_fitness = proximity[user_id]\n",
    "        improved_fitness = next_fitness - curr_fitness\n",
    "\n",
    "        if improved_fitness > 0:\n",
    "            curr_fitness = next_fitness\n",
    "            curr_answer = next_answer\n",
    "        else:\n",
    "            try: # 避免指數計算 overflow\n",
    "                prob = math.exp(-improved_fitness/temperature)\n",
    "            except OverflowError:\n",
    "                prob = 0 # 值過小設為零\n",
    "\n",
    "            if random.random() < prob:\n",
    "                # 允許錯誤=>更新\n",
    "                curr_fitness = next_fitness\n",
    "                curr_answer = next_answer\n",
    "\n",
    "        temperature *= COOLING_RATE\n",
    "\n",
    "    return alter_graph(g_copy, curr_answer, src)"
   ]
  },
  {
   "cell_type": "code",
   "execution_count": 13,
   "metadata": {},
   "outputs": [
    {
     "name": "stderr",
     "output_type": "stream",
     "text": [
      "100%|██████████| 100/100 [02:09<00:00,  1.29s/it]\n",
      "100%|██████████| 100/100 [00:14<00:00,  7.14it/s]\n"
     ]
    },
    {
     "name": "stdout",
     "output_type": "stream",
     "text": [
      "\n",
      "AUC: 0.967826\n"
     ]
    },
    {
     "name": "stderr",
     "output_type": "stream",
     "text": [
      "100%|██████████| 100/100 [01:58<00:00,  1.19s/it]\n",
      "100%|██████████| 100/100 [00:15<00:00,  6.33it/s]\n"
     ]
    },
    {
     "name": "stdout",
     "output_type": "stream",
     "text": [
      "\n",
      "AUC: 0.967718\n"
     ]
    },
    {
     "name": "stderr",
     "output_type": "stream",
     "text": [
      "100%|██████████| 100/100 [01:57<00:00,  1.18s/it]\n",
      "100%|██████████| 100/100 [00:13<00:00,  7.39it/s]\n"
     ]
    },
    {
     "name": "stdout",
     "output_type": "stream",
     "text": [
      "\n",
      "AUC: 0.967857\n"
     ]
    },
    {
     "name": "stderr",
     "output_type": "stream",
     "text": [
      "100%|██████████| 100/100 [01:47<00:00,  1.08s/it]\n",
      "100%|██████████| 100/100 [00:15<00:00,  6.29it/s]\n"
     ]
    },
    {
     "name": "stdout",
     "output_type": "stream",
     "text": [
      "\n",
      "AUC: 0.965950\n"
     ]
    },
    {
     "name": "stderr",
     "output_type": "stream",
     "text": [
      "100%|██████████| 100/100 [02:02<00:00,  1.23s/it]\n",
      "100%|██████████| 100/100 [00:14<00:00,  7.02it/s]\n"
     ]
    },
    {
     "name": "stdout",
     "output_type": "stream",
     "text": [
      "\n",
      "AUC: 0.953676\n",
      "{'average': -74.6, 'max': 10, 'min': -260}\n"
     ]
    }
   ],
   "source": [
    "origin_ranks, new_ranks = [], []\n",
    "\n",
    "for pair in pairs:\n",
    "    g_change = simulated_annealing(g, pair)\n",
    "\n",
    "    origin_rank = pipeline.predict_rank(g, pair[0], pair[1])\n",
    "\n",
    "    ds = split_dataset(g_change)\n",
    "    \n",
    "\n",
    "    #new_rank = pipeline.predict_rank(g_change, pair[0], pair[1])\n",
    "\n",
    "    new_pipeline = Pipeline(\"GCN\", 16, feature_matrix.shape[1])\n",
    "    train_losses = new_pipeline.train(ds)\n",
    "    new_rank = new_pipeline.predict_rank(g_change, pair[0], pair[1])\n",
    "\n",
    "    origin_ranks.append(origin_rank)\n",
    "    new_ranks.append(new_rank)\n",
    "\n",
    "print( compute_rank_error(origin_ranks, new_ranks) )    "
   ]
  },
  {
   "cell_type": "code",
   "execution_count": 14,
   "metadata": {},
   "outputs": [
    {
     "name": "stdout",
     "output_type": "stream",
     "text": [
      "[181, 181, 181, 181, 181]\n",
      "[203, 441, 171, 230, 233]\n"
     ]
    }
   ],
   "source": [
    "print(origin_ranks)\n",
    "print(new_ranks)"
   ]
  }
 ],
 "metadata": {
  "kernelspec": {
   "display_name": ".venv",
   "language": "python",
   "name": "python3"
  },
  "language_info": {
   "codemirror_mode": {
    "name": "ipython",
    "version": 3
   },
   "file_extension": ".py",
   "mimetype": "text/x-python",
   "name": "python",
   "nbconvert_exporter": "python",
   "pygments_lexer": "ipython3",
   "version": "3.11.9"
  }
 },
 "nbformat": 4,
 "nbformat_minor": 2
}
